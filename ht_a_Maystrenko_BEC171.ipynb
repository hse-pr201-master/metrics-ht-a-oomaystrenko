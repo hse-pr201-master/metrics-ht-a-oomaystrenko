{
 "cells": [
  {
   "cell_type": "code",
   "execution_count": 198,
   "metadata": {},
   "outputs": [],
   "source": [
    "import pandas as pd\n",
    "import matplotlib\n",
    "import matplotlib.pyplot as plt\n",
    "import seaborn as sns\n",
    "import numpy as np\n",
    "from statsmodels.stats.outliers_influence import variance_inflation_factor\n",
    "from sklearn.preprocessing import StandardScaler\n",
    "import statsmodels.api as sm\n",
    "from scipy.stats import chi2_contingency, mannwhitneyu, ttest_ind, normaltest, shapiro, kstest, anderson\n",
    "from statsmodels.stats.diagnostic import het_goldfeldquandt\n",
    "import statsmodels\n",
    "from sklearn.decomposition import PCA"
   ]
  },
  {
   "cell_type": "markdown",
   "metadata": {},
   "source": [
    "Задание 1 и Задание 2 (подготовка данных, отбор признаков и визуализация)"
   ]
  },
  {
   "cell_type": "code",
   "execution_count": 199,
   "metadata": {},
   "outputs": [],
   "source": [
    "data = pd.read_csv('/Users/Olesya/Downloads/forestfires.csv') #загружаем данные"
   ]
  },
  {
   "cell_type": "code",
   "execution_count": 200,
   "metadata": {},
   "outputs": [
    {
     "data": {
      "text/html": [
       "<div>\n",
       "<style scoped>\n",
       "    .dataframe tbody tr th:only-of-type {\n",
       "        vertical-align: middle;\n",
       "    }\n",
       "\n",
       "    .dataframe tbody tr th {\n",
       "        vertical-align: top;\n",
       "    }\n",
       "\n",
       "    .dataframe thead th {\n",
       "        text-align: right;\n",
       "    }\n",
       "</style>\n",
       "<table border=\"1\" class=\"dataframe\">\n",
       "  <thead>\n",
       "    <tr style=\"text-align: right;\">\n",
       "      <th></th>\n",
       "      <th>X</th>\n",
       "      <th>Y</th>\n",
       "      <th>month</th>\n",
       "      <th>day</th>\n",
       "      <th>FFMC</th>\n",
       "      <th>DMC</th>\n",
       "      <th>DC</th>\n",
       "      <th>ISI</th>\n",
       "      <th>temp</th>\n",
       "      <th>RH</th>\n",
       "      <th>wind</th>\n",
       "      <th>rain</th>\n",
       "      <th>area</th>\n",
       "    </tr>\n",
       "  </thead>\n",
       "  <tbody>\n",
       "    <tr>\n",
       "      <th>0</th>\n",
       "      <td>9</td>\n",
       "      <td>9</td>\n",
       "      <td>jul</td>\n",
       "      <td>tue</td>\n",
       "      <td>85.8</td>\n",
       "      <td>48.3</td>\n",
       "      <td>313.4</td>\n",
       "      <td>3.9</td>\n",
       "      <td>18.0</td>\n",
       "      <td>42</td>\n",
       "      <td>2.7</td>\n",
       "      <td>0.0</td>\n",
       "      <td>0.36</td>\n",
       "    </tr>\n",
       "    <tr>\n",
       "      <th>1</th>\n",
       "      <td>1</td>\n",
       "      <td>4</td>\n",
       "      <td>sep</td>\n",
       "      <td>tue</td>\n",
       "      <td>91.0</td>\n",
       "      <td>129.5</td>\n",
       "      <td>692.6</td>\n",
       "      <td>7.0</td>\n",
       "      <td>21.7</td>\n",
       "      <td>38</td>\n",
       "      <td>2.2</td>\n",
       "      <td>0.0</td>\n",
       "      <td>0.43</td>\n",
       "    </tr>\n",
       "    <tr>\n",
       "      <th>2</th>\n",
       "      <td>2</td>\n",
       "      <td>5</td>\n",
       "      <td>sep</td>\n",
       "      <td>mon</td>\n",
       "      <td>90.9</td>\n",
       "      <td>126.5</td>\n",
       "      <td>686.5</td>\n",
       "      <td>7.0</td>\n",
       "      <td>21.9</td>\n",
       "      <td>39</td>\n",
       "      <td>1.8</td>\n",
       "      <td>0.0</td>\n",
       "      <td>0.47</td>\n",
       "    </tr>\n",
       "    <tr>\n",
       "      <th>3</th>\n",
       "      <td>1</td>\n",
       "      <td>2</td>\n",
       "      <td>aug</td>\n",
       "      <td>wed</td>\n",
       "      <td>95.5</td>\n",
       "      <td>99.9</td>\n",
       "      <td>513.3</td>\n",
       "      <td>13.2</td>\n",
       "      <td>23.3</td>\n",
       "      <td>31</td>\n",
       "      <td>4.5</td>\n",
       "      <td>0.0</td>\n",
       "      <td>0.55</td>\n",
       "    </tr>\n",
       "    <tr>\n",
       "      <th>4</th>\n",
       "      <td>8</td>\n",
       "      <td>6</td>\n",
       "      <td>aug</td>\n",
       "      <td>fri</td>\n",
       "      <td>90.1</td>\n",
       "      <td>108.0</td>\n",
       "      <td>529.8</td>\n",
       "      <td>12.5</td>\n",
       "      <td>21.2</td>\n",
       "      <td>51</td>\n",
       "      <td>8.9</td>\n",
       "      <td>0.0</td>\n",
       "      <td>0.61</td>\n",
       "    </tr>\n",
       "  </tbody>\n",
       "</table>\n",
       "</div>"
      ],
      "text/plain": [
       "   X  Y month  day  FFMC    DMC     DC   ISI  temp  RH  wind  rain  area\n",
       "0  9  9   jul  tue  85.8   48.3  313.4   3.9  18.0  42   2.7   0.0  0.36\n",
       "1  1  4   sep  tue  91.0  129.5  692.6   7.0  21.7  38   2.2   0.0  0.43\n",
       "2  2  5   sep  mon  90.9  126.5  686.5   7.0  21.9  39   1.8   0.0  0.47\n",
       "3  1  2   aug  wed  95.5   99.9  513.3  13.2  23.3  31   4.5   0.0  0.55\n",
       "4  8  6   aug  fri  90.1  108.0  529.8  12.5  21.2  51   8.9   0.0  0.61"
      ]
     },
     "execution_count": 200,
     "metadata": {},
     "output_type": "execute_result"
    }
   ],
   "source": [
    "#отфильтруем нулевые значения целевой переменной, так как модели с цензурированными выборками в эту работу не входят\n",
    "data = data[data['area']!=0].reset_index(drop=True)\n",
    "data.head()"
   ]
  },
  {
   "cell_type": "code",
   "execution_count": 201,
   "metadata": {},
   "outputs": [
    {
     "data": {
      "text/html": [
       "<div>\n",
       "<style scoped>\n",
       "    .dataframe tbody tr th:only-of-type {\n",
       "        vertical-align: middle;\n",
       "    }\n",
       "\n",
       "    .dataframe tbody tr th {\n",
       "        vertical-align: top;\n",
       "    }\n",
       "\n",
       "    .dataframe thead th {\n",
       "        text-align: right;\n",
       "    }\n",
       "</style>\n",
       "<table border=\"1\" class=\"dataframe\">\n",
       "  <thead>\n",
       "    <tr style=\"text-align: right;\">\n",
       "      <th></th>\n",
       "      <th>X</th>\n",
       "      <th>Y</th>\n",
       "      <th>FFMC</th>\n",
       "      <th>DMC</th>\n",
       "      <th>DC</th>\n",
       "      <th>ISI</th>\n",
       "      <th>temp</th>\n",
       "      <th>RH</th>\n",
       "      <th>wind</th>\n",
       "      <th>rain</th>\n",
       "      <th>area</th>\n",
       "    </tr>\n",
       "  </thead>\n",
       "  <tbody>\n",
       "    <tr>\n",
       "      <th>count</th>\n",
       "      <td>270.000000</td>\n",
       "      <td>270.000000</td>\n",
       "      <td>270.000000</td>\n",
       "      <td>270.000000</td>\n",
       "      <td>270.000000</td>\n",
       "      <td>270.000000</td>\n",
       "      <td>270.000000</td>\n",
       "      <td>270.000000</td>\n",
       "      <td>270.000000</td>\n",
       "      <td>270.000000</td>\n",
       "      <td>270.000000</td>\n",
       "    </tr>\n",
       "    <tr>\n",
       "      <th>mean</th>\n",
       "      <td>4.807407</td>\n",
       "      <td>4.366667</td>\n",
       "      <td>91.034074</td>\n",
       "      <td>114.707778</td>\n",
       "      <td>570.867037</td>\n",
       "      <td>9.177037</td>\n",
       "      <td>19.311111</td>\n",
       "      <td>43.733333</td>\n",
       "      <td>4.112963</td>\n",
       "      <td>0.028889</td>\n",
       "      <td>24.600185</td>\n",
       "    </tr>\n",
       "    <tr>\n",
       "      <th>std</th>\n",
       "      <td>2.383326</td>\n",
       "      <td>1.170740</td>\n",
       "      <td>3.709020</td>\n",
       "      <td>61.786520</td>\n",
       "      <td>229.981242</td>\n",
       "      <td>4.147350</td>\n",
       "      <td>6.179444</td>\n",
       "      <td>15.080059</td>\n",
       "      <td>1.884573</td>\n",
       "      <td>0.398392</td>\n",
       "      <td>86.501635</td>\n",
       "    </tr>\n",
       "    <tr>\n",
       "      <th>min</th>\n",
       "      <td>1.000000</td>\n",
       "      <td>2.000000</td>\n",
       "      <td>63.500000</td>\n",
       "      <td>3.200000</td>\n",
       "      <td>15.300000</td>\n",
       "      <td>0.800000</td>\n",
       "      <td>2.200000</td>\n",
       "      <td>15.000000</td>\n",
       "      <td>0.400000</td>\n",
       "      <td>0.000000</td>\n",
       "      <td>0.090000</td>\n",
       "    </tr>\n",
       "    <tr>\n",
       "      <th>25%</th>\n",
       "      <td>3.000000</td>\n",
       "      <td>4.000000</td>\n",
       "      <td>90.325000</td>\n",
       "      <td>82.900000</td>\n",
       "      <td>486.500000</td>\n",
       "      <td>6.800000</td>\n",
       "      <td>16.125000</td>\n",
       "      <td>33.000000</td>\n",
       "      <td>2.700000</td>\n",
       "      <td>0.000000</td>\n",
       "      <td>2.140000</td>\n",
       "    </tr>\n",
       "    <tr>\n",
       "      <th>50%</th>\n",
       "      <td>5.000000</td>\n",
       "      <td>4.000000</td>\n",
       "      <td>91.700000</td>\n",
       "      <td>111.700000</td>\n",
       "      <td>665.600000</td>\n",
       "      <td>8.400000</td>\n",
       "      <td>20.100000</td>\n",
       "      <td>41.000000</td>\n",
       "      <td>4.000000</td>\n",
       "      <td>0.000000</td>\n",
       "      <td>6.370000</td>\n",
       "    </tr>\n",
       "    <tr>\n",
       "      <th>75%</th>\n",
       "      <td>7.000000</td>\n",
       "      <td>5.000000</td>\n",
       "      <td>92.975000</td>\n",
       "      <td>141.300000</td>\n",
       "      <td>721.325000</td>\n",
       "      <td>11.375000</td>\n",
       "      <td>23.400000</td>\n",
       "      <td>53.000000</td>\n",
       "      <td>4.900000</td>\n",
       "      <td>0.000000</td>\n",
       "      <td>15.422500</td>\n",
       "    </tr>\n",
       "    <tr>\n",
       "      <th>max</th>\n",
       "      <td>9.000000</td>\n",
       "      <td>9.000000</td>\n",
       "      <td>96.200000</td>\n",
       "      <td>291.300000</td>\n",
       "      <td>860.600000</td>\n",
       "      <td>22.700000</td>\n",
       "      <td>33.300000</td>\n",
       "      <td>96.000000</td>\n",
       "      <td>9.400000</td>\n",
       "      <td>6.400000</td>\n",
       "      <td>1090.840000</td>\n",
       "    </tr>\n",
       "  </tbody>\n",
       "</table>\n",
       "</div>"
      ],
      "text/plain": [
       "                X           Y        FFMC         DMC          DC         ISI  \\\n",
       "count  270.000000  270.000000  270.000000  270.000000  270.000000  270.000000   \n",
       "mean     4.807407    4.366667   91.034074  114.707778  570.867037    9.177037   \n",
       "std      2.383326    1.170740    3.709020   61.786520  229.981242    4.147350   \n",
       "min      1.000000    2.000000   63.500000    3.200000   15.300000    0.800000   \n",
       "25%      3.000000    4.000000   90.325000   82.900000  486.500000    6.800000   \n",
       "50%      5.000000    4.000000   91.700000  111.700000  665.600000    8.400000   \n",
       "75%      7.000000    5.000000   92.975000  141.300000  721.325000   11.375000   \n",
       "max      9.000000    9.000000   96.200000  291.300000  860.600000   22.700000   \n",
       "\n",
       "             temp          RH        wind        rain         area  \n",
       "count  270.000000  270.000000  270.000000  270.000000   270.000000  \n",
       "mean    19.311111   43.733333    4.112963    0.028889    24.600185  \n",
       "std      6.179444   15.080059    1.884573    0.398392    86.501635  \n",
       "min      2.200000   15.000000    0.400000    0.000000     0.090000  \n",
       "25%     16.125000   33.000000    2.700000    0.000000     2.140000  \n",
       "50%     20.100000   41.000000    4.000000    0.000000     6.370000  \n",
       "75%     23.400000   53.000000    4.900000    0.000000    15.422500  \n",
       "max     33.300000   96.000000    9.400000    6.400000  1090.840000  "
      ]
     },
     "execution_count": 201,
     "metadata": {},
     "output_type": "execute_result"
    }
   ],
   "source": [
    "data.describe()"
   ]
  },
  {
   "cell_type": "code",
   "execution_count": 202,
   "metadata": {},
   "outputs": [],
   "source": [
    "# будем использовать вместо месяца время года в нашей модели, т.к. логично, что, например, зимой пожаров почти нет \n",
    "data['summer'] = ((data['month'] == 'jun')|(data['month'] == 'jul') |(data['month'] == 'aug')).apply(lambda x: int(x))\n",
    "data['autumn'] = ((data['month'] == 'sep')|(data['month'] == 'oct') |(data['month'] == 'nov')).apply(lambda x: int(x))\n",
    "data['winter'] = ((data['month'] == 'dec')|(data['month'] == 'jan') |(data['month'] == 'feb')).apply(lambda x: int(x))\n",
    "data['spring'] = ((data['month'] == 'mar')|(data['month'] == 'apr') |(data['month'] == 'may')).apply(lambda x: int(x))"
   ]
  },
  {
   "cell_type": "code",
   "execution_count": 203,
   "metadata": {},
   "outputs": [],
   "source": [
    "# также будем использовать переменную будни/выходные - в выходные пожаров больше при прочих равных из-за выездов на природу\n",
    "data['workday'] = ((data['day'] == 'mon')|(data['day'] == 'tue') |(data['day'] == 'wed')|(data['day'] == 'thu')|(data['day'] == 'fri')).apply(lambda x: int(x))\n",
    "data['holiday'] = ((data['day'] == 'sat')|(data['day'] == 'sun')).apply(lambda x: int(x))"
   ]
  },
  {
   "cell_type": "code",
   "execution_count": 204,
   "metadata": {},
   "outputs": [],
   "source": [
    "# удалим переменные, которые не будем использовать в модели \n",
    "# площадь пожара не зависит от координат\n",
    "# также удалим переменную месяца, т.к. используем вместо нее переменную сезона, и переменную дня, т.к. заменили ее тоже\n",
    "del data['X']\n",
    "del data['Y']\n",
    "del data['day']\n",
    "del data['month']"
   ]
  },
  {
   "cell_type": "code",
   "execution_count": 205,
   "metadata": {},
   "outputs": [],
   "source": [
    "# удалим переменные winter и workday, чтобы не было мультиколлинеарности\n",
    "del data['workday']\n",
    "del data['winter']"
   ]
  },
  {
   "cell_type": "code",
   "execution_count": 206,
   "metadata": {},
   "outputs": [],
   "source": [
    "# будем также использовать переменную взаимодействия температуры и ветра \n",
    "data['temp_wind'] = data['temp']*data['wind']"
   ]
  },
  {
   "cell_type": "code",
   "execution_count": 207,
   "metadata": {},
   "outputs": [
    {
     "data": {
      "text/html": [
       "<div>\n",
       "<style scoped>\n",
       "    .dataframe tbody tr th:only-of-type {\n",
       "        vertical-align: middle;\n",
       "    }\n",
       "\n",
       "    .dataframe tbody tr th {\n",
       "        vertical-align: top;\n",
       "    }\n",
       "\n",
       "    .dataframe thead th {\n",
       "        text-align: right;\n",
       "    }\n",
       "</style>\n",
       "<table border=\"1\" class=\"dataframe\">\n",
       "  <thead>\n",
       "    <tr style=\"text-align: right;\">\n",
       "      <th></th>\n",
       "      <th>FFMC</th>\n",
       "      <th>DMC</th>\n",
       "      <th>DC</th>\n",
       "      <th>ISI</th>\n",
       "      <th>temp</th>\n",
       "      <th>RH</th>\n",
       "      <th>wind</th>\n",
       "      <th>rain</th>\n",
       "      <th>area</th>\n",
       "      <th>summer</th>\n",
       "      <th>autumn</th>\n",
       "      <th>spring</th>\n",
       "      <th>holiday</th>\n",
       "      <th>temp_wind</th>\n",
       "    </tr>\n",
       "  </thead>\n",
       "  <tbody>\n",
       "    <tr>\n",
       "      <th>count</th>\n",
       "      <td>270.000000</td>\n",
       "      <td>270.000000</td>\n",
       "      <td>270.000000</td>\n",
       "      <td>270.000000</td>\n",
       "      <td>270.000000</td>\n",
       "      <td>270.000000</td>\n",
       "      <td>270.000000</td>\n",
       "      <td>270.000000</td>\n",
       "      <td>270.000000</td>\n",
       "      <td>270.000000</td>\n",
       "      <td>270.000000</td>\n",
       "      <td>270.000000</td>\n",
       "      <td>270.000000</td>\n",
       "      <td>270.000000</td>\n",
       "    </tr>\n",
       "    <tr>\n",
       "      <th>mean</th>\n",
       "      <td>91.034074</td>\n",
       "      <td>114.707778</td>\n",
       "      <td>570.867037</td>\n",
       "      <td>9.177037</td>\n",
       "      <td>19.311111</td>\n",
       "      <td>43.733333</td>\n",
       "      <td>4.112963</td>\n",
       "      <td>0.028889</td>\n",
       "      <td>24.600185</td>\n",
       "      <td>0.462963</td>\n",
       "      <td>0.377778</td>\n",
       "      <td>0.088889</td>\n",
       "      <td>0.329630</td>\n",
       "      <td>75.706556</td>\n",
       "    </tr>\n",
       "    <tr>\n",
       "      <th>std</th>\n",
       "      <td>3.709020</td>\n",
       "      <td>61.786520</td>\n",
       "      <td>229.981242</td>\n",
       "      <td>4.147350</td>\n",
       "      <td>6.179444</td>\n",
       "      <td>15.080059</td>\n",
       "      <td>1.884573</td>\n",
       "      <td>0.398392</td>\n",
       "      <td>86.501635</td>\n",
       "      <td>0.499552</td>\n",
       "      <td>0.485732</td>\n",
       "      <td>0.285112</td>\n",
       "      <td>0.470952</td>\n",
       "      <td>37.586696</td>\n",
       "    </tr>\n",
       "    <tr>\n",
       "      <th>min</th>\n",
       "      <td>63.500000</td>\n",
       "      <td>3.200000</td>\n",
       "      <td>15.300000</td>\n",
       "      <td>0.800000</td>\n",
       "      <td>2.200000</td>\n",
       "      <td>15.000000</td>\n",
       "      <td>0.400000</td>\n",
       "      <td>0.000000</td>\n",
       "      <td>0.090000</td>\n",
       "      <td>0.000000</td>\n",
       "      <td>0.000000</td>\n",
       "      <td>0.000000</td>\n",
       "      <td>0.000000</td>\n",
       "      <td>4.140000</td>\n",
       "    </tr>\n",
       "    <tr>\n",
       "      <th>25%</th>\n",
       "      <td>90.325000</td>\n",
       "      <td>82.900000</td>\n",
       "      <td>486.500000</td>\n",
       "      <td>6.800000</td>\n",
       "      <td>16.125000</td>\n",
       "      <td>33.000000</td>\n",
       "      <td>2.700000</td>\n",
       "      <td>0.000000</td>\n",
       "      <td>2.140000</td>\n",
       "      <td>0.000000</td>\n",
       "      <td>0.000000</td>\n",
       "      <td>0.000000</td>\n",
       "      <td>0.000000</td>\n",
       "      <td>46.255000</td>\n",
       "    </tr>\n",
       "    <tr>\n",
       "      <th>50%</th>\n",
       "      <td>91.700000</td>\n",
       "      <td>111.700000</td>\n",
       "      <td>665.600000</td>\n",
       "      <td>8.400000</td>\n",
       "      <td>20.100000</td>\n",
       "      <td>41.000000</td>\n",
       "      <td>4.000000</td>\n",
       "      <td>0.000000</td>\n",
       "      <td>6.370000</td>\n",
       "      <td>0.000000</td>\n",
       "      <td>0.000000</td>\n",
       "      <td>0.000000</td>\n",
       "      <td>0.000000</td>\n",
       "      <td>69.540000</td>\n",
       "    </tr>\n",
       "    <tr>\n",
       "      <th>75%</th>\n",
       "      <td>92.975000</td>\n",
       "      <td>141.300000</td>\n",
       "      <td>721.325000</td>\n",
       "      <td>11.375000</td>\n",
       "      <td>23.400000</td>\n",
       "      <td>53.000000</td>\n",
       "      <td>4.900000</td>\n",
       "      <td>0.000000</td>\n",
       "      <td>15.422500</td>\n",
       "      <td>1.000000</td>\n",
       "      <td>1.000000</td>\n",
       "      <td>0.000000</td>\n",
       "      <td>1.000000</td>\n",
       "      <td>99.837500</td>\n",
       "    </tr>\n",
       "    <tr>\n",
       "      <th>max</th>\n",
       "      <td>96.200000</td>\n",
       "      <td>291.300000</td>\n",
       "      <td>860.600000</td>\n",
       "      <td>22.700000</td>\n",
       "      <td>33.300000</td>\n",
       "      <td>96.000000</td>\n",
       "      <td>9.400000</td>\n",
       "      <td>6.400000</td>\n",
       "      <td>1090.840000</td>\n",
       "      <td>1.000000</td>\n",
       "      <td>1.000000</td>\n",
       "      <td>1.000000</td>\n",
       "      <td>1.000000</td>\n",
       "      <td>213.380000</td>\n",
       "    </tr>\n",
       "  </tbody>\n",
       "</table>\n",
       "</div>"
      ],
      "text/plain": [
       "             FFMC         DMC          DC         ISI        temp          RH  \\\n",
       "count  270.000000  270.000000  270.000000  270.000000  270.000000  270.000000   \n",
       "mean    91.034074  114.707778  570.867037    9.177037   19.311111   43.733333   \n",
       "std      3.709020   61.786520  229.981242    4.147350    6.179444   15.080059   \n",
       "min     63.500000    3.200000   15.300000    0.800000    2.200000   15.000000   \n",
       "25%     90.325000   82.900000  486.500000    6.800000   16.125000   33.000000   \n",
       "50%     91.700000  111.700000  665.600000    8.400000   20.100000   41.000000   \n",
       "75%     92.975000  141.300000  721.325000   11.375000   23.400000   53.000000   \n",
       "max     96.200000  291.300000  860.600000   22.700000   33.300000   96.000000   \n",
       "\n",
       "             wind        rain         area      summer      autumn  \\\n",
       "count  270.000000  270.000000   270.000000  270.000000  270.000000   \n",
       "mean     4.112963    0.028889    24.600185    0.462963    0.377778   \n",
       "std      1.884573    0.398392    86.501635    0.499552    0.485732   \n",
       "min      0.400000    0.000000     0.090000    0.000000    0.000000   \n",
       "25%      2.700000    0.000000     2.140000    0.000000    0.000000   \n",
       "50%      4.000000    0.000000     6.370000    0.000000    0.000000   \n",
       "75%      4.900000    0.000000    15.422500    1.000000    1.000000   \n",
       "max      9.400000    6.400000  1090.840000    1.000000    1.000000   \n",
       "\n",
       "           spring     holiday   temp_wind  \n",
       "count  270.000000  270.000000  270.000000  \n",
       "mean     0.088889    0.329630   75.706556  \n",
       "std      0.285112    0.470952   37.586696  \n",
       "min      0.000000    0.000000    4.140000  \n",
       "25%      0.000000    0.000000   46.255000  \n",
       "50%      0.000000    0.000000   69.540000  \n",
       "75%      0.000000    1.000000   99.837500  \n",
       "max      1.000000    1.000000  213.380000  "
      ]
     },
     "execution_count": 207,
     "metadata": {},
     "output_type": "execute_result"
    }
   ],
   "source": [
    "# подготовим описательные статистики (среднее, медиана, стандратное отклонение, минимум, максимум)\n",
    "data.describe()"
   ]
  },
  {
   "cell_type": "code",
   "execution_count": 208,
   "metadata": {},
   "outputs": [],
   "source": [
    "# выделим зависимую переменную и регрессоры в 2 отедльных датасета\n",
    "Y = data['area']\n",
    "X = data.copy()\n",
    "del X['area']"
   ]
  },
  {
   "cell_type": "markdown",
   "metadata": {},
   "source": [
    "Линейная регрессия часто делает более надежные прогнозы, если изначально масштабировать входные переменные, используя стандартизацию"
   ]
  },
  {
   "cell_type": "code",
   "execution_count": 209,
   "metadata": {},
   "outputs": [
    {
     "name": "stderr",
     "output_type": "stream",
     "text": [
      "C:\\ProgramData\\Anaconda3\\lib\\site-packages\\sklearn\\preprocessing\\data.py:625: DataConversionWarning: Data with input dtype int64, float64 were all converted to float64 by StandardScaler.\n",
      "  return self.partial_fit(X, y)\n",
      "C:\\ProgramData\\Anaconda3\\lib\\site-packages\\sklearn\\base.py:462: DataConversionWarning: Data with input dtype int64, float64 were all converted to float64 by StandardScaler.\n",
      "  return self.fit(X, **fit_params).transform(X)\n"
     ]
    }
   ],
   "source": [
    "#стандартизируем наши данные, кроме дамми-переменных, чтобы все переменные лежалим примерно в одном диапозоне\n",
    "X_upd = X.copy()\n",
    "del X_upd['summer']\n",
    "del X_upd['spring']\n",
    "del X_upd['autumn']\n",
    "del X_upd['holiday']\n",
    "scaler = StandardScaler()\n",
    "X_tr = pd.DataFrame(scaler.fit_transform(X_upd), columns=X_upd.columns)"
   ]
  },
  {
   "cell_type": "code",
   "execution_count": 210,
   "metadata": {},
   "outputs": [],
   "source": [
    "X = pd.merge(X_tr, X[['summer', 'autumn', 'spring', 'holiday']], left_index=True, right_index=True)"
   ]
  },
  {
   "cell_type": "code",
   "execution_count": 211,
   "metadata": {},
   "outputs": [
    {
     "data": {
      "text/html": [
       "<div>\n",
       "<style scoped>\n",
       "    .dataframe tbody tr th:only-of-type {\n",
       "        vertical-align: middle;\n",
       "    }\n",
       "\n",
       "    .dataframe tbody tr th {\n",
       "        vertical-align: top;\n",
       "    }\n",
       "\n",
       "    .dataframe thead th {\n",
       "        text-align: right;\n",
       "    }\n",
       "</style>\n",
       "<table border=\"1\" class=\"dataframe\">\n",
       "  <thead>\n",
       "    <tr style=\"text-align: right;\">\n",
       "      <th></th>\n",
       "      <th>FFMC</th>\n",
       "      <th>DMC</th>\n",
       "      <th>DC</th>\n",
       "      <th>ISI</th>\n",
       "      <th>temp</th>\n",
       "      <th>RH</th>\n",
       "      <th>wind</th>\n",
       "      <th>rain</th>\n",
       "      <th>temp_wind</th>\n",
       "      <th>summer</th>\n",
       "      <th>autumn</th>\n",
       "      <th>spring</th>\n",
       "      <th>holiday</th>\n",
       "    </tr>\n",
       "  </thead>\n",
       "  <tbody>\n",
       "    <tr>\n",
       "      <th>0</th>\n",
       "      <td>-1.413795</td>\n",
       "      <td>-1.076790</td>\n",
       "      <td>-1.121592</td>\n",
       "      <td>-1.274751</td>\n",
       "      <td>-0.212567</td>\n",
       "      <td>-0.115156</td>\n",
       "      <td>-0.751145</td>\n",
       "      <td>-0.072648</td>\n",
       "      <td>-0.722513</td>\n",
       "      <td>1</td>\n",
       "      <td>0</td>\n",
       "      <td>0</td>\n",
       "      <td>0</td>\n",
       "    </tr>\n",
       "    <tr>\n",
       "      <th>1</th>\n",
       "      <td>-0.009204</td>\n",
       "      <td>0.239853</td>\n",
       "      <td>0.530300</td>\n",
       "      <td>-0.525897</td>\n",
       "      <td>0.387304</td>\n",
       "      <td>-0.380899</td>\n",
       "      <td>-1.016949</td>\n",
       "      <td>-0.072648</td>\n",
       "      <td>-0.745436</td>\n",
       "      <td>0</td>\n",
       "      <td>1</td>\n",
       "      <td>0</td>\n",
       "      <td>0</td>\n",
       "    </tr>\n",
       "    <tr>\n",
       "      <th>2</th>\n",
       "      <td>-0.036215</td>\n",
       "      <td>0.191209</td>\n",
       "      <td>0.503727</td>\n",
       "      <td>-0.525897</td>\n",
       "      <td>0.419730</td>\n",
       "      <td>-0.314463</td>\n",
       "      <td>-1.229593</td>\n",
       "      <td>-0.072648</td>\n",
       "      <td>-0.967202</td>\n",
       "      <td>0</td>\n",
       "      <td>1</td>\n",
       "      <td>0</td>\n",
       "      <td>0</td>\n",
       "    </tr>\n",
       "    <tr>\n",
       "      <th>3</th>\n",
       "      <td>1.206308</td>\n",
       "      <td>-0.240105</td>\n",
       "      <td>-0.250777</td>\n",
       "      <td>0.971809</td>\n",
       "      <td>0.646708</td>\n",
       "      <td>-0.845950</td>\n",
       "      <td>0.205753</td>\n",
       "      <td>-0.072648</td>\n",
       "      <td>0.776806</td>\n",
       "      <td>1</td>\n",
       "      <td>0</td>\n",
       "      <td>0</td>\n",
       "      <td>0</td>\n",
       "    </tr>\n",
       "    <tr>\n",
       "      <th>4</th>\n",
       "      <td>-0.252306</td>\n",
       "      <td>-0.108765</td>\n",
       "      <td>-0.178898</td>\n",
       "      <td>0.802713</td>\n",
       "      <td>0.306241</td>\n",
       "      <td>0.482767</td>\n",
       "      <td>2.544835</td>\n",
       "      <td>-0.072648</td>\n",
       "      <td>3.011258</td>\n",
       "      <td>1</td>\n",
       "      <td>0</td>\n",
       "      <td>0</td>\n",
       "      <td>0</td>\n",
       "    </tr>\n",
       "    <tr>\n",
       "      <th>5</th>\n",
       "      <td>-0.279318</td>\n",
       "      <td>-1.028145</td>\n",
       "      <td>-1.196084</td>\n",
       "      <td>-0.115236</td>\n",
       "      <td>-0.439545</td>\n",
       "      <td>0.615639</td>\n",
       "      <td>0.684201</td>\n",
       "      <td>-0.072648</td>\n",
       "      <td>0.371390</td>\n",
       "      <td>1</td>\n",
       "      <td>0</td>\n",
       "      <td>0</td>\n",
       "      <td>1</td>\n",
       "    </tr>\n",
       "    <tr>\n",
       "      <th>6</th>\n",
       "      <td>1.206308</td>\n",
       "      <td>-0.240105</td>\n",
       "      <td>-0.250777</td>\n",
       "      <td>0.971809</td>\n",
       "      <td>0.727772</td>\n",
       "      <td>-0.779514</td>\n",
       "      <td>0.684201</td>\n",
       "      <td>-0.072648</td>\n",
       "      <td>1.407719</td>\n",
       "      <td>1</td>\n",
       "      <td>0</td>\n",
       "      <td>0</td>\n",
       "      <td>0</td>\n",
       "    </tr>\n",
       "    <tr>\n",
       "      <th>7</th>\n",
       "      <td>1.125274</td>\n",
       "      <td>0.275526</td>\n",
       "      <td>0.034558</td>\n",
       "      <td>0.295426</td>\n",
       "      <td>1.311430</td>\n",
       "      <td>-1.443873</td>\n",
       "      <td>-0.060052</td>\n",
       "      <td>-0.072648</td>\n",
       "      <td>0.903415</td>\n",
       "      <td>1</td>\n",
       "      <td>0</td>\n",
       "      <td>0</td>\n",
       "      <td>0</td>\n",
       "    </tr>\n",
       "    <tr>\n",
       "      <th>8</th>\n",
       "      <td>-0.252306</td>\n",
       "      <td>-1.216237</td>\n",
       "      <td>-2.109591</td>\n",
       "      <td>-0.719150</td>\n",
       "      <td>-0.990778</td>\n",
       "      <td>-0.248027</td>\n",
       "      <td>0.684201</td>\n",
       "      <td>-0.072648</td>\n",
       "      <td>-0.117988</td>\n",
       "      <td>0</td>\n",
       "      <td>0</td>\n",
       "      <td>1</td>\n",
       "      <td>0</td>\n",
       "    </tr>\n",
       "    <tr>\n",
       "      <th>9</th>\n",
       "      <td>-1.791954</td>\n",
       "      <td>-0.669798</td>\n",
       "      <td>0.440125</td>\n",
       "      <td>-1.443846</td>\n",
       "      <td>0.792623</td>\n",
       "      <td>-1.045258</td>\n",
       "      <td>-0.272696</td>\n",
       "      <td>-0.072648</td>\n",
       "      <td>0.304220</td>\n",
       "      <td>0</td>\n",
       "      <td>1</td>\n",
       "      <td>0</td>\n",
       "      <td>0</td>\n",
       "    </tr>\n",
       "    <tr>\n",
       "      <th>10</th>\n",
       "      <td>1.017228</td>\n",
       "      <td>-0.103901</td>\n",
       "      <td>0.332090</td>\n",
       "      <td>1.889759</td>\n",
       "      <td>-0.309843</td>\n",
       "      <td>-0.048720</td>\n",
       "      <td>1.375294</td>\n",
       "      <td>-0.072648</td>\n",
       "      <td>1.089464</td>\n",
       "      <td>1</td>\n",
       "      <td>0</td>\n",
       "      <td>0</td>\n",
       "      <td>0</td>\n",
       "    </tr>\n",
       "    <tr>\n",
       "      <th>11</th>\n",
       "      <td>0.720103</td>\n",
       "      <td>-0.548187</td>\n",
       "      <td>0.498064</td>\n",
       "      <td>2.107168</td>\n",
       "      <td>0.711559</td>\n",
       "      <td>-1.244566</td>\n",
       "      <td>0.205753</td>\n",
       "      <td>-0.072648</td>\n",
       "      <td>0.824784</td>\n",
       "      <td>0</td>\n",
       "      <td>1</td>\n",
       "      <td>0</td>\n",
       "      <td>0</td>\n",
       "    </tr>\n",
       "    <tr>\n",
       "      <th>12</th>\n",
       "      <td>0.395967</td>\n",
       "      <td>-0.945450</td>\n",
       "      <td>-0.599277</td>\n",
       "      <td>-0.501741</td>\n",
       "      <td>0.630495</td>\n",
       "      <td>-0.314463</td>\n",
       "      <td>0.684201</td>\n",
       "      <td>-0.072648</td>\n",
       "      <td>1.321359</td>\n",
       "      <td>1</td>\n",
       "      <td>0</td>\n",
       "      <td>0</td>\n",
       "      <td>0</td>\n",
       "    </tr>\n",
       "    <tr>\n",
       "      <th>13</th>\n",
       "      <td>-0.252306</td>\n",
       "      <td>-0.747629</td>\n",
       "      <td>-0.939501</td>\n",
       "      <td>-0.477584</td>\n",
       "      <td>0.889899</td>\n",
       "      <td>-0.978822</td>\n",
       "      <td>-1.016949</td>\n",
       "      <td>-0.072648</td>\n",
       "      <td>-0.563652</td>\n",
       "      <td>1</td>\n",
       "      <td>0</td>\n",
       "      <td>0</td>\n",
       "      <td>1</td>\n",
       "    </tr>\n",
       "    <tr>\n",
       "      <th>14</th>\n",
       "      <td>-0.252306</td>\n",
       "      <td>-1.029767</td>\n",
       "      <td>-0.639355</td>\n",
       "      <td>-0.719150</td>\n",
       "      <td>0.857474</td>\n",
       "      <td>-0.048720</td>\n",
       "      <td>-1.229593</td>\n",
       "      <td>-0.072648</td>\n",
       "      <td>-0.837661</td>\n",
       "      <td>1</td>\n",
       "      <td>0</td>\n",
       "      <td>0</td>\n",
       "      <td>1</td>\n",
       "    </tr>\n",
       "    <tr>\n",
       "      <th>15</th>\n",
       "      <td>0.882171</td>\n",
       "      <td>-0.480085</td>\n",
       "      <td>0.528993</td>\n",
       "      <td>1.624036</td>\n",
       "      <td>0.127900</td>\n",
       "      <td>0.217024</td>\n",
       "      <td>0.418396</td>\n",
       "      <td>-0.072648</td>\n",
       "      <td>0.607283</td>\n",
       "      <td>0</td>\n",
       "      <td>1</td>\n",
       "      <td>0</td>\n",
       "      <td>0</td>\n",
       "    </tr>\n",
       "    <tr>\n",
       "      <th>16</th>\n",
       "      <td>0.639069</td>\n",
       "      <td>0.497669</td>\n",
       "      <td>0.655760</td>\n",
       "      <td>-0.260175</td>\n",
       "      <td>1.668111</td>\n",
       "      <td>-1.111694</td>\n",
       "      <td>-0.751145</td>\n",
       "      <td>-0.072648</td>\n",
       "      <td>0.112308</td>\n",
       "      <td>0</td>\n",
       "      <td>1</td>\n",
       "      <td>0</td>\n",
       "      <td>1</td>\n",
       "    </tr>\n",
       "    <tr>\n",
       "      <th>17</th>\n",
       "      <td>1.017228</td>\n",
       "      <td>-0.103901</td>\n",
       "      <td>0.332090</td>\n",
       "      <td>1.889759</td>\n",
       "      <td>-0.471971</td>\n",
       "      <td>0.217024</td>\n",
       "      <td>-1.495398</td>\n",
       "      <td>-0.072648</td>\n",
       "      <td>-1.449650</td>\n",
       "      <td>1</td>\n",
       "      <td>0</td>\n",
       "      <td>0</td>\n",
       "      <td>1</td>\n",
       "    </tr>\n",
       "    <tr>\n",
       "      <th>18</th>\n",
       "      <td>0.639069</td>\n",
       "      <td>0.497669</td>\n",
       "      <td>0.655760</td>\n",
       "      <td>-0.260175</td>\n",
       "      <td>1.505983</td>\n",
       "      <td>-1.111694</td>\n",
       "      <td>-1.016949</td>\n",
       "      <td>-0.072648</td>\n",
       "      <td>-0.340820</td>\n",
       "      <td>0</td>\n",
       "      <td>1</td>\n",
       "      <td>0</td>\n",
       "      <td>1</td>\n",
       "    </tr>\n",
       "    <tr>\n",
       "      <th>19</th>\n",
       "      <td>0.287921</td>\n",
       "      <td>-0.056878</td>\n",
       "      <td>0.362584</td>\n",
       "      <td>0.102173</td>\n",
       "      <td>-0.147716</td>\n",
       "      <td>0.084152</td>\n",
       "      <td>-0.272696</td>\n",
       "      <td>-0.072648</td>\n",
       "      <td>-0.252327</td>\n",
       "      <td>1</td>\n",
       "      <td>0</td>\n",
       "      <td>0</td>\n",
       "      <td>0</td>\n",
       "    </tr>\n",
       "    <tr>\n",
       "      <th>20</th>\n",
       "      <td>0.287921</td>\n",
       "      <td>-0.056878</td>\n",
       "      <td>0.362584</td>\n",
       "      <td>0.102173</td>\n",
       "      <td>0.192751</td>\n",
       "      <td>-0.580207</td>\n",
       "      <td>-0.060052</td>\n",
       "      <td>-0.072648</td>\n",
       "      <td>0.167749</td>\n",
       "      <td>1</td>\n",
       "      <td>0</td>\n",
       "      <td>0</td>\n",
       "      <td>0</td>\n",
       "    </tr>\n",
       "    <tr>\n",
       "      <th>21</th>\n",
       "      <td>0.368955</td>\n",
       "      <td>0.051761</td>\n",
       "      <td>0.423136</td>\n",
       "      <td>0.730244</td>\n",
       "      <td>-0.050440</td>\n",
       "      <td>-0.646643</td>\n",
       "      <td>0.896845</td>\n",
       "      <td>-0.072648</td>\n",
       "      <td>0.919408</td>\n",
       "      <td>0</td>\n",
       "      <td>1</td>\n",
       "      <td>0</td>\n",
       "      <td>0</td>\n",
       "    </tr>\n",
       "    <tr>\n",
       "      <th>22</th>\n",
       "      <td>-0.252306</td>\n",
       "      <td>-1.216237</td>\n",
       "      <td>-2.109591</td>\n",
       "      <td>-0.719150</td>\n",
       "      <td>-0.520609</td>\n",
       "      <td>-0.978822</td>\n",
       "      <td>-0.538501</td>\n",
       "      <td>-0.072648</td>\n",
       "      <td>-0.687596</td>\n",
       "      <td>0</td>\n",
       "      <td>0</td>\n",
       "      <td>1</td>\n",
       "      <td>0</td>\n",
       "    </tr>\n",
       "    <tr>\n",
       "      <th>23</th>\n",
       "      <td>1.125274</td>\n",
       "      <td>0.275526</td>\n",
       "      <td>0.034558</td>\n",
       "      <td>0.295426</td>\n",
       "      <td>0.160326</td>\n",
       "      <td>-0.181591</td>\n",
       "      <td>-0.060052</td>\n",
       "      <td>-0.072648</td>\n",
       "      <td>0.146425</td>\n",
       "      <td>1</td>\n",
       "      <td>0</td>\n",
       "      <td>0</td>\n",
       "      <td>0</td>\n",
       "    </tr>\n",
       "    <tr>\n",
       "      <th>24</th>\n",
       "      <td>-0.117249</td>\n",
       "      <td>-1.047603</td>\n",
       "      <td>-2.049475</td>\n",
       "      <td>-0.332645</td>\n",
       "      <td>-0.666524</td>\n",
       "      <td>-0.845950</td>\n",
       "      <td>2.332191</td>\n",
       "      <td>-0.072648</td>\n",
       "      <td>1.425844</td>\n",
       "      <td>0</td>\n",
       "      <td>0</td>\n",
       "      <td>1</td>\n",
       "      <td>1</td>\n",
       "    </tr>\n",
       "    <tr>\n",
       "      <th>25</th>\n",
       "      <td>0.395967</td>\n",
       "      <td>0.103649</td>\n",
       "      <td>0.451016</td>\n",
       "      <td>-0.139392</td>\n",
       "      <td>-0.244992</td>\n",
       "      <td>0.814947</td>\n",
       "      <td>-1.229593</td>\n",
       "      <td>-0.072648</td>\n",
       "      <td>-1.163913</td>\n",
       "      <td>0</td>\n",
       "      <td>1</td>\n",
       "      <td>0</td>\n",
       "      <td>1</td>\n",
       "    </tr>\n",
       "    <tr>\n",
       "      <th>26</th>\n",
       "      <td>-0.360352</td>\n",
       "      <td>-0.400632</td>\n",
       "      <td>0.581704</td>\n",
       "      <td>-1.057342</td>\n",
       "      <td>-0.244992</td>\n",
       "      <td>1.545742</td>\n",
       "      <td>-1.016949</td>\n",
       "      <td>-0.072648</td>\n",
       "      <td>-0.974133</td>\n",
       "      <td>0</td>\n",
       "      <td>1</td>\n",
       "      <td>0</td>\n",
       "      <td>1</td>\n",
       "    </tr>\n",
       "    <tr>\n",
       "      <th>27</th>\n",
       "      <td>-1.656897</td>\n",
       "      <td>-1.564856</td>\n",
       "      <td>-2.247249</td>\n",
       "      <td>-1.492160</td>\n",
       "      <td>-2.271585</td>\n",
       "      <td>1.745049</td>\n",
       "      <td>0.205753</td>\n",
       "      <td>-0.072648</td>\n",
       "      <td>-1.382214</td>\n",
       "      <td>0</td>\n",
       "      <td>0</td>\n",
       "      <td>1</td>\n",
       "      <td>0</td>\n",
       "    </tr>\n",
       "    <tr>\n",
       "      <th>28</th>\n",
       "      <td>0.287921</td>\n",
       "      <td>-0.056878</td>\n",
       "      <td>0.362584</td>\n",
       "      <td>0.102173</td>\n",
       "      <td>-0.439545</td>\n",
       "      <td>0.217024</td>\n",
       "      <td>-1.708042</td>\n",
       "      <td>-0.072648</td>\n",
       "      <td>-1.619706</td>\n",
       "      <td>1</td>\n",
       "      <td>0</td>\n",
       "      <td>0</td>\n",
       "      <td>0</td>\n",
       "    </tr>\n",
       "    <tr>\n",
       "      <th>29</th>\n",
       "      <td>1.341365</td>\n",
       "      <td>0.200938</td>\n",
       "      <td>-0.001599</td>\n",
       "      <td>1.768976</td>\n",
       "      <td>0.662921</td>\n",
       "      <td>-0.713078</td>\n",
       "      <td>0.205753</td>\n",
       "      <td>-0.072648</td>\n",
       "      <td>0.788800</td>\n",
       "      <td>1</td>\n",
       "      <td>0</td>\n",
       "      <td>0</td>\n",
       "      <td>0</td>\n",
       "    </tr>\n",
       "    <tr>\n",
       "      <th>...</th>\n",
       "      <td>...</td>\n",
       "      <td>...</td>\n",
       "      <td>...</td>\n",
       "      <td>...</td>\n",
       "      <td>...</td>\n",
       "      <td>...</td>\n",
       "      <td>...</td>\n",
       "      <td>...</td>\n",
       "      <td>...</td>\n",
       "      <td>...</td>\n",
       "      <td>...</td>\n",
       "      <td>...</td>\n",
       "      <td>...</td>\n",
       "    </tr>\n",
       "    <tr>\n",
       "      <th>240</th>\n",
       "      <td>-0.387363</td>\n",
       "      <td>-1.448109</td>\n",
       "      <td>-2.165787</td>\n",
       "      <td>-0.839932</td>\n",
       "      <td>-0.212567</td>\n",
       "      <td>-0.248027</td>\n",
       "      <td>-0.060052</td>\n",
       "      <td>-0.072648</td>\n",
       "      <td>-0.098797</td>\n",
       "      <td>0</td>\n",
       "      <td>0</td>\n",
       "      <td>1</td>\n",
       "      <td>0</td>\n",
       "    </tr>\n",
       "    <tr>\n",
       "      <th>241</th>\n",
       "      <td>-0.765522</td>\n",
       "      <td>-0.300100</td>\n",
       "      <td>-1.489260</td>\n",
       "      <td>-1.081498</td>\n",
       "      <td>-0.812438</td>\n",
       "      <td>2.342972</td>\n",
       "      <td>-0.060052</td>\n",
       "      <td>-0.072648</td>\n",
       "      <td>-0.493284</td>\n",
       "      <td>1</td>\n",
       "      <td>0</td>\n",
       "      <td>0</td>\n",
       "      <td>0</td>\n",
       "    </tr>\n",
       "    <tr>\n",
       "      <th>242</th>\n",
       "      <td>-0.144261</td>\n",
       "      <td>-0.869240</td>\n",
       "      <td>-1.386452</td>\n",
       "      <td>0.053860</td>\n",
       "      <td>0.841261</td>\n",
       "      <td>0.416332</td>\n",
       "      <td>-0.538501</td>\n",
       "      <td>-0.072648</td>\n",
       "      <td>0.006489</td>\n",
       "      <td>1</td>\n",
       "      <td>0</td>\n",
       "      <td>0</td>\n",
       "      <td>1</td>\n",
       "    </tr>\n",
       "    <tr>\n",
       "      <th>243</th>\n",
       "      <td>0.531024</td>\n",
       "      <td>-0.176868</td>\n",
       "      <td>-1.107217</td>\n",
       "      <td>0.392052</td>\n",
       "      <td>1.149303</td>\n",
       "      <td>-0.580207</td>\n",
       "      <td>-0.751145</td>\n",
       "      <td>-0.072648</td>\n",
       "      <td>-0.117988</td>\n",
       "      <td>1</td>\n",
       "      <td>0</td>\n",
       "      <td>0</td>\n",
       "      <td>0</td>\n",
       "    </tr>\n",
       "    <tr>\n",
       "      <th>244</th>\n",
       "      <td>0.720103</td>\n",
       "      <td>0.113378</td>\n",
       "      <td>-0.961282</td>\n",
       "      <td>2.131324</td>\n",
       "      <td>0.549432</td>\n",
       "      <td>-0.248027</td>\n",
       "      <td>2.810639</td>\n",
       "      <td>-0.072648</td>\n",
       "      <td>3.669626</td>\n",
       "      <td>1</td>\n",
       "      <td>0</td>\n",
       "      <td>0</td>\n",
       "      <td>0</td>\n",
       "    </tr>\n",
       "    <tr>\n",
       "      <th>245</th>\n",
       "      <td>0.666080</td>\n",
       "      <td>-0.476842</td>\n",
       "      <td>-0.766122</td>\n",
       "      <td>0.174643</td>\n",
       "      <td>1.279005</td>\n",
       "      <td>-1.045258</td>\n",
       "      <td>-1.495398</td>\n",
       "      <td>-0.072648</td>\n",
       "      <td>-1.075420</td>\n",
       "      <td>1</td>\n",
       "      <td>0</td>\n",
       "      <td>0</td>\n",
       "      <td>0</td>\n",
       "    </tr>\n",
       "    <tr>\n",
       "      <th>246</th>\n",
       "      <td>0.720103</td>\n",
       "      <td>-0.217405</td>\n",
       "      <td>-0.642404</td>\n",
       "      <td>1.334158</td>\n",
       "      <td>1.100665</td>\n",
       "      <td>0.084152</td>\n",
       "      <td>-0.060052</td>\n",
       "      <td>-0.072648</td>\n",
       "      <td>0.764811</td>\n",
       "      <td>1</td>\n",
       "      <td>0</td>\n",
       "      <td>0</td>\n",
       "      <td>1</td>\n",
       "    </tr>\n",
       "    <tr>\n",
       "      <th>247</th>\n",
       "      <td>0.720103</td>\n",
       "      <td>-0.217405</td>\n",
       "      <td>-0.642404</td>\n",
       "      <td>1.334158</td>\n",
       "      <td>-0.180142</td>\n",
       "      <td>2.542280</td>\n",
       "      <td>0.205753</td>\n",
       "      <td>-0.072648</td>\n",
       "      <td>0.165084</td>\n",
       "      <td>1</td>\n",
       "      <td>0</td>\n",
       "      <td>0</td>\n",
       "      <td>1</td>\n",
       "    </tr>\n",
       "    <tr>\n",
       "      <th>248</th>\n",
       "      <td>-0.495409</td>\n",
       "      <td>-0.175246</td>\n",
       "      <td>-0.606683</td>\n",
       "      <td>-0.670837</td>\n",
       "      <td>0.533219</td>\n",
       "      <td>0.881383</td>\n",
       "      <td>0.418396</td>\n",
       "      <td>-0.072648</td>\n",
       "      <td>0.933801</td>\n",
       "      <td>1</td>\n",
       "      <td>0</td>\n",
       "      <td>0</td>\n",
       "      <td>0</td>\n",
       "    </tr>\n",
       "    <tr>\n",
       "      <th>249</th>\n",
       "      <td>0.585046</td>\n",
       "      <td>-0.004991</td>\n",
       "      <td>-0.047340</td>\n",
       "      <td>0.078017</td>\n",
       "      <td>1.765387</td>\n",
       "      <td>-1.244566</td>\n",
       "      <td>0.205753</td>\n",
       "      <td>-0.072648</td>\n",
       "      <td>1.604430</td>\n",
       "      <td>1</td>\n",
       "      <td>0</td>\n",
       "      <td>0</td>\n",
       "      <td>0</td>\n",
       "    </tr>\n",
       "    <tr>\n",
       "      <th>250</th>\n",
       "      <td>1.044240</td>\n",
       "      <td>0.252825</td>\n",
       "      <td>0.070715</td>\n",
       "      <td>1.189218</td>\n",
       "      <td>0.662921</td>\n",
       "      <td>-0.248027</td>\n",
       "      <td>0.896845</td>\n",
       "      <td>-0.072648</td>\n",
       "      <td>1.599632</td>\n",
       "      <td>1</td>\n",
       "      <td>0</td>\n",
       "      <td>0</td>\n",
       "      <td>1</td>\n",
       "    </tr>\n",
       "    <tr>\n",
       "      <th>251</th>\n",
       "      <td>1.044240</td>\n",
       "      <td>0.252825</td>\n",
       "      <td>0.070715</td>\n",
       "      <td>1.189218</td>\n",
       "      <td>2.235556</td>\n",
       "      <td>-1.244566</td>\n",
       "      <td>-0.060052</td>\n",
       "      <td>-0.072648</td>\n",
       "      <td>1.511139</td>\n",
       "      <td>1</td>\n",
       "      <td>0</td>\n",
       "      <td>0</td>\n",
       "      <td>1</td>\n",
       "    </tr>\n",
       "    <tr>\n",
       "      <th>252</th>\n",
       "      <td>1.071251</td>\n",
       "      <td>0.337142</td>\n",
       "      <td>0.110792</td>\n",
       "      <td>2.928491</td>\n",
       "      <td>1.830238</td>\n",
       "      <td>-1.045258</td>\n",
       "      <td>-0.272696</td>\n",
       "      <td>-0.072648</td>\n",
       "      <td>0.918342</td>\n",
       "      <td>1</td>\n",
       "      <td>0</td>\n",
       "      <td>0</td>\n",
       "      <td>0</td>\n",
       "    </tr>\n",
       "    <tr>\n",
       "      <th>253</th>\n",
       "      <td>1.098262</td>\n",
       "      <td>0.431188</td>\n",
       "      <td>0.152177</td>\n",
       "      <td>2.058855</td>\n",
       "      <td>0.776410</td>\n",
       "      <td>-0.048720</td>\n",
       "      <td>1.162650</td>\n",
       "      <td>-0.072648</td>\n",
       "      <td>2.029037</td>\n",
       "      <td>1</td>\n",
       "      <td>0</td>\n",
       "      <td>0</td>\n",
       "      <td>0</td>\n",
       "    </tr>\n",
       "    <tr>\n",
       "      <th>254</th>\n",
       "      <td>1.098262</td>\n",
       "      <td>0.431188</td>\n",
       "      <td>0.152177</td>\n",
       "      <td>2.058855</td>\n",
       "      <td>1.149303</td>\n",
       "      <td>-0.646643</td>\n",
       "      <td>-0.272696</td>\n",
       "      <td>-0.072648</td>\n",
       "      <td>0.515325</td>\n",
       "      <td>1</td>\n",
       "      <td>0</td>\n",
       "      <td>0</td>\n",
       "      <td>0</td>\n",
       "    </tr>\n",
       "    <tr>\n",
       "      <th>255</th>\n",
       "      <td>1.098262</td>\n",
       "      <td>0.431188</td>\n",
       "      <td>0.152177</td>\n",
       "      <td>2.058855</td>\n",
       "      <td>0.014411</td>\n",
       "      <td>1.811485</td>\n",
       "      <td>1.853742</td>\n",
       "      <td>-0.072648</td>\n",
       "      <td>1.912024</td>\n",
       "      <td>1</td>\n",
       "      <td>0</td>\n",
       "      <td>0</td>\n",
       "      <td>0</td>\n",
       "    </tr>\n",
       "    <tr>\n",
       "      <th>256</th>\n",
       "      <td>1.314353</td>\n",
       "      <td>0.701975</td>\n",
       "      <td>0.273281</td>\n",
       "      <td>0.512835</td>\n",
       "      <td>1.327643</td>\n",
       "      <td>-0.978822</td>\n",
       "      <td>0.205753</td>\n",
       "      <td>-0.072648</td>\n",
       "      <td>1.280577</td>\n",
       "      <td>1</td>\n",
       "      <td>0</td>\n",
       "      <td>0</td>\n",
       "      <td>0</td>\n",
       "    </tr>\n",
       "    <tr>\n",
       "      <th>257</th>\n",
       "      <td>1.341365</td>\n",
       "      <td>0.799264</td>\n",
       "      <td>0.314230</td>\n",
       "      <td>1.165062</td>\n",
       "      <td>1.862663</td>\n",
       "      <td>-0.912386</td>\n",
       "      <td>0.418396</td>\n",
       "      <td>-0.072648</td>\n",
       "      <td>2.004782</td>\n",
       "      <td>1</td>\n",
       "      <td>0</td>\n",
       "      <td>0</td>\n",
       "      <td>1</td>\n",
       "    </tr>\n",
       "    <tr>\n",
       "      <th>258</th>\n",
       "      <td>1.395387</td>\n",
       "      <td>0.985735</td>\n",
       "      <td>0.396127</td>\n",
       "      <td>1.841445</td>\n",
       "      <td>2.154493</td>\n",
       "      <td>-1.178130</td>\n",
       "      <td>-0.538501</td>\n",
       "      <td>-0.072648</td>\n",
       "      <td>0.675785</td>\n",
       "      <td>1</td>\n",
       "      <td>0</td>\n",
       "      <td>0</td>\n",
       "      <td>0</td>\n",
       "    </tr>\n",
       "    <tr>\n",
       "      <th>259</th>\n",
       "      <td>1.368376</td>\n",
       "      <td>1.076538</td>\n",
       "      <td>0.437076</td>\n",
       "      <td>1.237532</td>\n",
       "      <td>2.105854</td>\n",
       "      <td>-1.111694</td>\n",
       "      <td>-1.016949</td>\n",
       "      <td>-0.072648</td>\n",
       "      <td>-0.123852</td>\n",
       "      <td>1</td>\n",
       "      <td>0</td>\n",
       "      <td>0</td>\n",
       "      <td>0</td>\n",
       "    </tr>\n",
       "    <tr>\n",
       "      <th>260</th>\n",
       "      <td>1.368376</td>\n",
       "      <td>1.076538</td>\n",
       "      <td>0.437076</td>\n",
       "      <td>1.237532</td>\n",
       "      <td>2.267982</td>\n",
       "      <td>-1.178130</td>\n",
       "      <td>-0.751145</td>\n",
       "      <td>-0.072648</td>\n",
       "      <td>0.378587</td>\n",
       "      <td>1</td>\n",
       "      <td>0</td>\n",
       "      <td>0</td>\n",
       "      <td>0</td>\n",
       "    </tr>\n",
       "    <tr>\n",
       "      <th>261</th>\n",
       "      <td>1.368376</td>\n",
       "      <td>1.076538</td>\n",
       "      <td>0.437076</td>\n",
       "      <td>1.237532</td>\n",
       "      <td>1.295218</td>\n",
       "      <td>1.279998</td>\n",
       "      <td>0.418396</td>\n",
       "      <td>16.021761</td>\n",
       "      <td>1.547656</td>\n",
       "      <td>1</td>\n",
       "      <td>0</td>\n",
       "      <td>0</td>\n",
       "      <td>0</td>\n",
       "    </tr>\n",
       "    <tr>\n",
       "      <th>262</th>\n",
       "      <td>0.936194</td>\n",
       "      <td>0.400380</td>\n",
       "      <td>0.515053</td>\n",
       "      <td>2.614455</td>\n",
       "      <td>1.603260</td>\n",
       "      <td>-0.912386</td>\n",
       "      <td>0.418396</td>\n",
       "      <td>-0.072648</td>\n",
       "      <td>1.795810</td>\n",
       "      <td>1</td>\n",
       "      <td>0</td>\n",
       "      <td>0</td>\n",
       "      <td>0</td>\n",
       "    </tr>\n",
       "    <tr>\n",
       "      <th>263</th>\n",
       "      <td>0.936194</td>\n",
       "      <td>0.400380</td>\n",
       "      <td>0.515053</td>\n",
       "      <td>2.614455</td>\n",
       "      <td>1.554621</td>\n",
       "      <td>-0.978822</td>\n",
       "      <td>0.418396</td>\n",
       "      <td>-0.072648</td>\n",
       "      <td>1.756628</td>\n",
       "      <td>1</td>\n",
       "      <td>0</td>\n",
       "      <td>0</td>\n",
       "      <td>0</td>\n",
       "    </tr>\n",
       "    <tr>\n",
       "      <th>264</th>\n",
       "      <td>-0.009204</td>\n",
       "      <td>0.786292</td>\n",
       "      <td>0.755954</td>\n",
       "      <td>0.222956</td>\n",
       "      <td>1.197941</td>\n",
       "      <td>-0.580207</td>\n",
       "      <td>-1.229593</td>\n",
       "      <td>-0.072648</td>\n",
       "      <td>-0.736907</td>\n",
       "      <td>1</td>\n",
       "      <td>0</td>\n",
       "      <td>0</td>\n",
       "      <td>0</td>\n",
       "    </tr>\n",
       "    <tr>\n",
       "      <th>265</th>\n",
       "      <td>-0.009204</td>\n",
       "      <td>0.846287</td>\n",
       "      <td>0.791675</td>\n",
       "      <td>-0.501741</td>\n",
       "      <td>0.290028</td>\n",
       "      <td>1.811485</td>\n",
       "      <td>1.853742</td>\n",
       "      <td>3.448004</td>\n",
       "      <td>2.256401</td>\n",
       "      <td>1</td>\n",
       "      <td>0</td>\n",
       "      <td>0</td>\n",
       "      <td>0</td>\n",
       "    </tr>\n",
       "    <tr>\n",
       "      <th>266</th>\n",
       "      <td>-0.009204</td>\n",
       "      <td>0.846287</td>\n",
       "      <td>0.791675</td>\n",
       "      <td>-0.501741</td>\n",
       "      <td>-0.180142</td>\n",
       "      <td>1.213562</td>\n",
       "      <td>0.684201</td>\n",
       "      <td>-0.072648</td>\n",
       "      <td>0.601685</td>\n",
       "      <td>1</td>\n",
       "      <td>0</td>\n",
       "      <td>0</td>\n",
       "      <td>0</td>\n",
       "    </tr>\n",
       "    <tr>\n",
       "      <th>267</th>\n",
       "      <td>-2.548273</td>\n",
       "      <td>-0.940585</td>\n",
       "      <td>0.412681</td>\n",
       "      <td>-1.757882</td>\n",
       "      <td>1.376281</td>\n",
       "      <td>-0.779514</td>\n",
       "      <td>-0.751145</td>\n",
       "      <td>-0.072648</td>\n",
       "      <td>-0.017234</td>\n",
       "      <td>1</td>\n",
       "      <td>0</td>\n",
       "      <td>0</td>\n",
       "      <td>1</td>\n",
       "    </tr>\n",
       "    <tr>\n",
       "      <th>268</th>\n",
       "      <td>-2.548273</td>\n",
       "      <td>-0.940585</td>\n",
       "      <td>0.412681</td>\n",
       "      <td>-1.757882</td>\n",
       "      <td>0.419730</td>\n",
       "      <td>1.811485</td>\n",
       "      <td>0.896845</td>\n",
       "      <td>-0.072648</td>\n",
       "      <td>1.367738</td>\n",
       "      <td>1</td>\n",
       "      <td>0</td>\n",
       "      <td>0</td>\n",
       "      <td>1</td>\n",
       "    </tr>\n",
       "    <tr>\n",
       "      <th>269</th>\n",
       "      <td>-2.548273</td>\n",
       "      <td>-0.940585</td>\n",
       "      <td>0.412681</td>\n",
       "      <td>-1.757882</td>\n",
       "      <td>0.306241</td>\n",
       "      <td>1.745049</td>\n",
       "      <td>1.375294</td>\n",
       "      <td>-0.072648</td>\n",
       "      <td>1.768089</td>\n",
       "      <td>1</td>\n",
       "      <td>0</td>\n",
       "      <td>0</td>\n",
       "      <td>1</td>\n",
       "    </tr>\n",
       "  </tbody>\n",
       "</table>\n",
       "<p>270 rows × 13 columns</p>\n",
       "</div>"
      ],
      "text/plain": [
       "         FFMC       DMC        DC       ISI      temp        RH      wind  \\\n",
       "0   -1.413795 -1.076790 -1.121592 -1.274751 -0.212567 -0.115156 -0.751145   \n",
       "1   -0.009204  0.239853  0.530300 -0.525897  0.387304 -0.380899 -1.016949   \n",
       "2   -0.036215  0.191209  0.503727 -0.525897  0.419730 -0.314463 -1.229593   \n",
       "3    1.206308 -0.240105 -0.250777  0.971809  0.646708 -0.845950  0.205753   \n",
       "4   -0.252306 -0.108765 -0.178898  0.802713  0.306241  0.482767  2.544835   \n",
       "5   -0.279318 -1.028145 -1.196084 -0.115236 -0.439545  0.615639  0.684201   \n",
       "6    1.206308 -0.240105 -0.250777  0.971809  0.727772 -0.779514  0.684201   \n",
       "7    1.125274  0.275526  0.034558  0.295426  1.311430 -1.443873 -0.060052   \n",
       "8   -0.252306 -1.216237 -2.109591 -0.719150 -0.990778 -0.248027  0.684201   \n",
       "9   -1.791954 -0.669798  0.440125 -1.443846  0.792623 -1.045258 -0.272696   \n",
       "10   1.017228 -0.103901  0.332090  1.889759 -0.309843 -0.048720  1.375294   \n",
       "11   0.720103 -0.548187  0.498064  2.107168  0.711559 -1.244566  0.205753   \n",
       "12   0.395967 -0.945450 -0.599277 -0.501741  0.630495 -0.314463  0.684201   \n",
       "13  -0.252306 -0.747629 -0.939501 -0.477584  0.889899 -0.978822 -1.016949   \n",
       "14  -0.252306 -1.029767 -0.639355 -0.719150  0.857474 -0.048720 -1.229593   \n",
       "15   0.882171 -0.480085  0.528993  1.624036  0.127900  0.217024  0.418396   \n",
       "16   0.639069  0.497669  0.655760 -0.260175  1.668111 -1.111694 -0.751145   \n",
       "17   1.017228 -0.103901  0.332090  1.889759 -0.471971  0.217024 -1.495398   \n",
       "18   0.639069  0.497669  0.655760 -0.260175  1.505983 -1.111694 -1.016949   \n",
       "19   0.287921 -0.056878  0.362584  0.102173 -0.147716  0.084152 -0.272696   \n",
       "20   0.287921 -0.056878  0.362584  0.102173  0.192751 -0.580207 -0.060052   \n",
       "21   0.368955  0.051761  0.423136  0.730244 -0.050440 -0.646643  0.896845   \n",
       "22  -0.252306 -1.216237 -2.109591 -0.719150 -0.520609 -0.978822 -0.538501   \n",
       "23   1.125274  0.275526  0.034558  0.295426  0.160326 -0.181591 -0.060052   \n",
       "24  -0.117249 -1.047603 -2.049475 -0.332645 -0.666524 -0.845950  2.332191   \n",
       "25   0.395967  0.103649  0.451016 -0.139392 -0.244992  0.814947 -1.229593   \n",
       "26  -0.360352 -0.400632  0.581704 -1.057342 -0.244992  1.545742 -1.016949   \n",
       "27  -1.656897 -1.564856 -2.247249 -1.492160 -2.271585  1.745049  0.205753   \n",
       "28   0.287921 -0.056878  0.362584  0.102173 -0.439545  0.217024 -1.708042   \n",
       "29   1.341365  0.200938 -0.001599  1.768976  0.662921 -0.713078  0.205753   \n",
       "..        ...       ...       ...       ...       ...       ...       ...   \n",
       "240 -0.387363 -1.448109 -2.165787 -0.839932 -0.212567 -0.248027 -0.060052   \n",
       "241 -0.765522 -0.300100 -1.489260 -1.081498 -0.812438  2.342972 -0.060052   \n",
       "242 -0.144261 -0.869240 -1.386452  0.053860  0.841261  0.416332 -0.538501   \n",
       "243  0.531024 -0.176868 -1.107217  0.392052  1.149303 -0.580207 -0.751145   \n",
       "244  0.720103  0.113378 -0.961282  2.131324  0.549432 -0.248027  2.810639   \n",
       "245  0.666080 -0.476842 -0.766122  0.174643  1.279005 -1.045258 -1.495398   \n",
       "246  0.720103 -0.217405 -0.642404  1.334158  1.100665  0.084152 -0.060052   \n",
       "247  0.720103 -0.217405 -0.642404  1.334158 -0.180142  2.542280  0.205753   \n",
       "248 -0.495409 -0.175246 -0.606683 -0.670837  0.533219  0.881383  0.418396   \n",
       "249  0.585046 -0.004991 -0.047340  0.078017  1.765387 -1.244566  0.205753   \n",
       "250  1.044240  0.252825  0.070715  1.189218  0.662921 -0.248027  0.896845   \n",
       "251  1.044240  0.252825  0.070715  1.189218  2.235556 -1.244566 -0.060052   \n",
       "252  1.071251  0.337142  0.110792  2.928491  1.830238 -1.045258 -0.272696   \n",
       "253  1.098262  0.431188  0.152177  2.058855  0.776410 -0.048720  1.162650   \n",
       "254  1.098262  0.431188  0.152177  2.058855  1.149303 -0.646643 -0.272696   \n",
       "255  1.098262  0.431188  0.152177  2.058855  0.014411  1.811485  1.853742   \n",
       "256  1.314353  0.701975  0.273281  0.512835  1.327643 -0.978822  0.205753   \n",
       "257  1.341365  0.799264  0.314230  1.165062  1.862663 -0.912386  0.418396   \n",
       "258  1.395387  0.985735  0.396127  1.841445  2.154493 -1.178130 -0.538501   \n",
       "259  1.368376  1.076538  0.437076  1.237532  2.105854 -1.111694 -1.016949   \n",
       "260  1.368376  1.076538  0.437076  1.237532  2.267982 -1.178130 -0.751145   \n",
       "261  1.368376  1.076538  0.437076  1.237532  1.295218  1.279998  0.418396   \n",
       "262  0.936194  0.400380  0.515053  2.614455  1.603260 -0.912386  0.418396   \n",
       "263  0.936194  0.400380  0.515053  2.614455  1.554621 -0.978822  0.418396   \n",
       "264 -0.009204  0.786292  0.755954  0.222956  1.197941 -0.580207 -1.229593   \n",
       "265 -0.009204  0.846287  0.791675 -0.501741  0.290028  1.811485  1.853742   \n",
       "266 -0.009204  0.846287  0.791675 -0.501741 -0.180142  1.213562  0.684201   \n",
       "267 -2.548273 -0.940585  0.412681 -1.757882  1.376281 -0.779514 -0.751145   \n",
       "268 -2.548273 -0.940585  0.412681 -1.757882  0.419730  1.811485  0.896845   \n",
       "269 -2.548273 -0.940585  0.412681 -1.757882  0.306241  1.745049  1.375294   \n",
       "\n",
       "          rain  temp_wind  summer  autumn  spring  holiday  \n",
       "0    -0.072648  -0.722513       1       0       0        0  \n",
       "1    -0.072648  -0.745436       0       1       0        0  \n",
       "2    -0.072648  -0.967202       0       1       0        0  \n",
       "3    -0.072648   0.776806       1       0       0        0  \n",
       "4    -0.072648   3.011258       1       0       0        0  \n",
       "5    -0.072648   0.371390       1       0       0        1  \n",
       "6    -0.072648   1.407719       1       0       0        0  \n",
       "7    -0.072648   0.903415       1       0       0        0  \n",
       "8    -0.072648  -0.117988       0       0       1        0  \n",
       "9    -0.072648   0.304220       0       1       0        0  \n",
       "10   -0.072648   1.089464       1       0       0        0  \n",
       "11   -0.072648   0.824784       0       1       0        0  \n",
       "12   -0.072648   1.321359       1       0       0        0  \n",
       "13   -0.072648  -0.563652       1       0       0        1  \n",
       "14   -0.072648  -0.837661       1       0       0        1  \n",
       "15   -0.072648   0.607283       0       1       0        0  \n",
       "16   -0.072648   0.112308       0       1       0        1  \n",
       "17   -0.072648  -1.449650       1       0       0        1  \n",
       "18   -0.072648  -0.340820       0       1       0        1  \n",
       "19   -0.072648  -0.252327       1       0       0        0  \n",
       "20   -0.072648   0.167749       1       0       0        0  \n",
       "21   -0.072648   0.919408       0       1       0        0  \n",
       "22   -0.072648  -0.687596       0       0       1        0  \n",
       "23   -0.072648   0.146425       1       0       0        0  \n",
       "24   -0.072648   1.425844       0       0       1        1  \n",
       "25   -0.072648  -1.163913       0       1       0        1  \n",
       "26   -0.072648  -0.974133       0       1       0        1  \n",
       "27   -0.072648  -1.382214       0       0       1        0  \n",
       "28   -0.072648  -1.619706       1       0       0        0  \n",
       "29   -0.072648   0.788800       1       0       0        0  \n",
       "..         ...        ...     ...     ...     ...      ...  \n",
       "240  -0.072648  -0.098797       0       0       1        0  \n",
       "241  -0.072648  -0.493284       1       0       0        0  \n",
       "242  -0.072648   0.006489       1       0       0        1  \n",
       "243  -0.072648  -0.117988       1       0       0        0  \n",
       "244  -0.072648   3.669626       1       0       0        0  \n",
       "245  -0.072648  -1.075420       1       0       0        0  \n",
       "246  -0.072648   0.764811       1       0       0        1  \n",
       "247  -0.072648   0.165084       1       0       0        1  \n",
       "248  -0.072648   0.933801       1       0       0        0  \n",
       "249  -0.072648   1.604430       1       0       0        0  \n",
       "250  -0.072648   1.599632       1       0       0        1  \n",
       "251  -0.072648   1.511139       1       0       0        1  \n",
       "252  -0.072648   0.918342       1       0       0        0  \n",
       "253  -0.072648   2.029037       1       0       0        0  \n",
       "254  -0.072648   0.515325       1       0       0        0  \n",
       "255  -0.072648   1.912024       1       0       0        0  \n",
       "256  -0.072648   1.280577       1       0       0        0  \n",
       "257  -0.072648   2.004782       1       0       0        1  \n",
       "258  -0.072648   0.675785       1       0       0        0  \n",
       "259  -0.072648  -0.123852       1       0       0        0  \n",
       "260  -0.072648   0.378587       1       0       0        0  \n",
       "261  16.021761   1.547656       1       0       0        0  \n",
       "262  -0.072648   1.795810       1       0       0        0  \n",
       "263  -0.072648   1.756628       1       0       0        0  \n",
       "264  -0.072648  -0.736907       1       0       0        0  \n",
       "265   3.448004   2.256401       1       0       0        0  \n",
       "266  -0.072648   0.601685       1       0       0        0  \n",
       "267  -0.072648  -0.017234       1       0       0        1  \n",
       "268  -0.072648   1.367738       1       0       0        1  \n",
       "269  -0.072648   1.768089       1       0       0        1  \n",
       "\n",
       "[270 rows x 13 columns]"
      ]
     },
     "execution_count": 211,
     "metadata": {},
     "output_type": "execute_result"
    }
   ],
   "source": [
    "X"
   ]
  },
  {
   "cell_type": "markdown",
   "metadata": {},
   "source": [
    "Итак будем использовать следующие переменные в качестве регрессоров в нашей модели:\n",
    "\n",
    "FFMC (Указывает легкость воспламенения топлива, иными словами, вероятность возгорания) - ожидается положительный знак\n",
    "\n",
    "DMC (Показывает влажность угля, лежащего под землей. Вероятность возгорания в результате удара молнии) - ожидается положительный знак\n",
    "\n",
    "DC (Показывает степень увлажнения глубоких слоев органического вещества. Свидетельствует о долгосрочных условиях влажности и определяет устойчивость огня к тушению) - ожидается положительный знак\n",
    "\n",
    "ISI (Показывает скорость распространения огня сразу после возгорания. Сочетает FFMC и скорость ветра, чтобы спрогнозировать ожидаемый темп распространения) - ожидается положительный знак\n",
    "\n",
    "temp - ожидается положительный знак, т.к. чем выше температура, тем больше вероятность возникновения пожара\t\n",
    "\n",
    "RH - ожидается отрицательный знак, т.к. при большой влажности пожары не распространяются\n",
    "\n",
    "wind - ожидается положительный знак, т.к. ветер способствует распространению пожаров\n",
    "\n",
    "rain - ожидается отрицательный знак, т.к. дождь тушит пожары и пожаров меньше\n",
    "\n",
    "temp_wind - ожидается положительный знак, т.к. при высокой температуре и сильном ветре, пожар будет распространяться очень быстро\n",
    "\n",
    "summer - ожидается положительный знак, т.к. летом самая жаркая температура\t\n",
    "\n",
    "autumn - также ожидается положительный знак, т.к. обычно осенью тоже часто случаются пожары\n",
    "\n",
    "spring - ожидается отрицательный знак, т.к. при рочих равных весной пожаров меньше\n",
    "\n",
    "holiday - ожидается положительный знак, т.к. в выходные люди чаще ездят на природы и разводят костры"
   ]
  },
  {
   "cell_type": "code",
   "execution_count": 212,
   "metadata": {},
   "outputs": [
    {
     "data": {
      "text/plain": [
       "<matplotlib.axes._subplots.AxesSubplot at 0x12ad72d69e8>"
      ]
     },
     "execution_count": 212,
     "metadata": {},
     "output_type": "execute_result"
    },
    {
     "data": {
      "image/png": "[encoded data removed]",
      "text/plain": [
       "<Figure size 1080x720 with 1 Axes>"
      ]
     },
     "metadata": {
      "needs_background": "light"
     },
     "output_type": "display_data"
    }
   ],
   "source": [
    "plt.figure(figsize=(15,10))\n",
    "sns.boxplot(data=X)"
   ]
  },
  {
   "cell_type": "markdown",
   "metadata": {},
   "source": [
    "Видим, что переменная rain почти всегда равна 0, а другие значения это выбросы, не будем использовать данную перменную при построении модели, также не будем использовать переменную spring по тем же причинам"
   ]
  },
  {
   "cell_type": "code",
   "execution_count": 213,
   "metadata": {},
   "outputs": [],
   "source": [
    "del X['rain']"
   ]
  },
  {
   "cell_type": "code",
   "execution_count": 214,
   "metadata": {},
   "outputs": [],
   "source": [
    "del X['spring']"
   ]
  },
  {
   "cell_type": "code",
   "execution_count": 215,
   "metadata": {},
   "outputs": [
    {
     "data": {
      "text/plain": [
       "<matplotlib.axes._subplots.AxesSubplot at 0x12ad6ef1390>"
      ]
     },
     "execution_count": 215,
     "metadata": {},
     "output_type": "execute_result"
    },
    {
     "data": {
      "image/png": "[encoded data removed]",
      "text/plain": [
       "<Figure size 1080x720 with 1 Axes>"
      ]
     },
     "metadata": {
      "needs_background": "light"
     },
     "output_type": "display_data"
    }
   ],
   "source": [
    "plt.figure(figsize=(15,10))\n",
    "sns.boxplot(data=X)"
   ]
  },
  {
   "cell_type": "code",
   "execution_count": 216,
   "metadata": {},
   "outputs": [
    {
     "name": "stderr",
     "output_type": "stream",
     "text": [
      "C:\\ProgramData\\Anaconda3\\lib\\site-packages\\scipy\\stats\\stats.py:1713: FutureWarning: Using a non-tuple sequence for multidimensional indexing is deprecated; use `arr[tuple(seq)]` instead of `arr[seq]`. In the future this will be interpreted as an array index, `arr[np.array(seq)]`, which will result either in an error or a different result.\n",
      "  return np.add.reduce(sorted[indexer] * weights, axis=axis) / sumval\n"
     ]
    },
    {
     "data": {
      "text/plain": [
       "<matplotlib.axes._subplots.AxesSubplot at 0x12ad71bca58>"
      ]
     },
     "execution_count": 216,
     "metadata": {},
     "output_type": "execute_result"
    },
    {
     "data": {
      "image/png": "[encoded data removed]",
      "text/plain": [
       "<Figure size 432x288 with 1 Axes>"
      ]
     },
     "metadata": {
      "needs_background": "light"
     },
     "output_type": "display_data"
    }
   ],
   "source": [
    "sns.distplot(Y)\n",
    "#посмотрим на данные по зависимой переменной"
   ]
  },
  {
   "cell_type": "code",
   "execution_count": 217,
   "metadata": {},
   "outputs": [
    {
     "data": {
      "text/plain": [
       "<matplotlib.axes._subplots.AxesSubplot at 0x12ad6e8f2b0>"
      ]
     },
     "execution_count": 217,
     "metadata": {},
     "output_type": "execute_result"
    },
    {
     "data": {
      "image/png": "[encoded data removed]",
      "text/plain": [
       "<Figure size 432x288 with 1 Axes>"
      ]
     },
     "metadata": {
      "needs_background": "light"
     },
     "output_type": "display_data"
    }
   ],
   "source": [
    "sns.boxplot(Y)\n",
    "#посмотрим на данные по зависимой переменной"
   ]
  },
  {
   "cell_type": "code",
   "execution_count": 218,
   "metadata": {},
   "outputs": [
    {
     "data": {
      "image/png": "[encoded data removed]",
      "text/plain": [
       "<Figure size 432x288 with 1 Axes>"
      ]
     },
     "metadata": {
      "needs_background": "light"
     },
     "output_type": "display_data"
    },
    {
     "data": {
      "image/png": "[encoded data removed]",
      "text/plain": [
       "<Figure size 432x288 with 1 Axes>"
      ]
     },
     "metadata": {
      "needs_background": "light"
     },
     "output_type": "display_data"
    },
    {
     "data": {
      "image/png": "[encoded data removed]",
      "text/plain": [
       "<Figure size 432x288 with 1 Axes>"
      ]
     },
     "metadata": {
      "needs_background": "light"
     },
     "output_type": "display_data"
    },
    {
     "data": {
      "image/png": "[encoded data removed]",
      "text/plain": [
       "<Figure size 432x288 with 1 Axes>"
      ]
     },
     "metadata": {
      "needs_background": "light"
     },
     "output_type": "display_data"
    },
    {
     "data": {
      "image/png": "[encoded data removed]",
      "text/plain": [
       "<Figure size 432x288 with 1 Axes>"
      ]
     },
     "metadata": {
      "needs_background": "light"
     },
     "output_type": "display_data"
    },
    {
     "data": {
      "image/png": "[encoded data removed]",
      "text/plain": [
       "<Figure size 432x288 with 1 Axes>"
      ]
     },
     "metadata": {
      "needs_background": "light"
     },
     "output_type": "display_data"
    },
    {
     "data": {
      "image/png": "[encoded data removed]",
      "text/plain": [
       "<Figure size 432x288 with 1 Axes>"
      ]
     },
     "metadata": {
      "needs_background": "light"
     },
     "output_type": "display_data"
    },
    {
     "data": {
      "image/png": "[encoded data removed]",
      "text/plain": [
       "<Figure size 432x288 with 1 Axes>"
      ]
     },
     "metadata": {
      "needs_background": "light"
     },
     "output_type": "display_data"
    },
    {
     "data": {
      "image/png": "[encoded data removed]",
      "text/plain": [
       "<Figure size 432x288 with 1 Axes>"
      ]
     },
     "metadata": {
      "needs_background": "light"
     },
     "output_type": "display_data"
    },
    {
     "data": {
      "image/png": "[encoded data removed]",
      "text/plain": [
       "<Figure size 432x288 with 1 Axes>"
      ]
     },
     "metadata": {
      "needs_background": "light"
     },
     "output_type": "display_data"
    },
    {
     "data": {
      "image/png": "[encoded data removed]",
      "text/plain": [
       "<Figure size 432x288 with 1 Axes>"
      ]
     },
     "metadata": {
      "needs_background": "light"
     },
     "output_type": "display_data"
    }
   ],
   "source": [
    "#Визуализруем ящик с усами для каждой переменной отдельно\n",
    "for i in X.columns:\n",
    "    sns.boxplot(X[i])\n",
    "    plt.title(f'Ящик с усами для {i}')\n",
    "    plt.show()"
   ]
  },
  {
   "cell_type": "code",
   "execution_count": 219,
   "metadata": {},
   "outputs": [
    {
     "data": {
      "image/png": "[encoded data removed]",
      "text/plain": [
       "<Figure size 432x288 with 1 Axes>"
      ]
     },
     "metadata": {
      "needs_background": "light"
     },
     "output_type": "display_data"
    },
    {
     "data": {
      "image/png": "[encoded data removed]",
      "text/plain": [
       "<Figure size 432x288 with 1 Axes>"
      ]
     },
     "metadata": {
      "needs_background": "light"
     },
     "output_type": "display_data"
    },
    {
     "data": {
      "image/png": "[encoded data removed]",
      "text/plain": [
       "<Figure size 432x288 with 1 Axes>"
      ]
     },
     "metadata": {
      "needs_background": "light"
     },
     "output_type": "display_data"
    },
    {
     "data": {
      "image/png": "[encoded data removed]",
      "text/plain": [
       "<Figure size 432x288 with 1 Axes>"
      ]
     },
     "metadata": {
      "needs_background": "light"
     },
     "output_type": "display_data"
    },
    {
     "data": {
      "image/png": "[encoded data removed]",
      "text/plain": [
       "<Figure size 432x288 with 1 Axes>"
      ]
     },
     "metadata": {
      "needs_background": "light"
     },
     "output_type": "display_data"
    },
    {
     "data": {
      "image/png": "[encoded data removed]",
      "text/plain": [
       "<Figure size 432x288 with 1 Axes>"
      ]
     },
     "metadata": {
      "needs_background": "light"
     },
     "output_type": "display_data"
    },
    {
     "data": {
      "image/png": "[encoded data removed]",
      "text/plain": [
       "<Figure size 432x288 with 1 Axes>"
      ]
     },
     "metadata": {
      "needs_background": "light"
     },
     "output_type": "display_data"
    },
    {
     "data": {
      "image/png": "[encoded data removed]",
      "text/plain": [
       "<Figure size 432x288 with 1 Axes>"
      ]
     },
     "metadata": {
      "needs_background": "light"
     },
     "output_type": "display_data"
    },
    {
     "data": {
      "image/png": "[encoded data removed]",
      "text/plain": [
       "<Figure size 432x288 with 1 Axes>"
      ]
     },
     "metadata": {
      "needs_background": "light"
     },
     "output_type": "display_data"
    },
    {
     "data": {
      "image/png": "[encoded data removed]",
      "text/plain": [
       "<Figure size 432x288 with 1 Axes>"
      ]
     },
     "metadata": {
      "needs_background": "light"
     },
     "output_type": "display_data"
    },
    {
     "data": {
      "image/png": "[encoded data removed]",
      "text/plain": [
       "<Figure size 432x288 with 1 Axes>"
      ]
     },
     "metadata": {
      "needs_background": "light"
     },
     "output_type": "display_data"
    }
   ],
   "source": [
    "#посмотрим на гистограммы по каждому регрессору\n",
    "for i in X.columns:\n",
    "    sns.distplot(X[i])\n",
    "    plt.title(f'Гистограмма для {i}')\n",
    "    plt.show()"
   ]
  },
  {
   "cell_type": "markdown",
   "metadata": {},
   "source": [
    "Задание 3"
   ]
  },
  {
   "cell_type": "code",
   "execution_count": 220,
   "metadata": {},
   "outputs": [
    {
     "data": {
      "text/html": [
       "<div>\n",
       "<style scoped>\n",
       "    .dataframe tbody tr th:only-of-type {\n",
       "        vertical-align: middle;\n",
       "    }\n",
       "\n",
       "    .dataframe tbody tr th {\n",
       "        vertical-align: top;\n",
       "    }\n",
       "\n",
       "    .dataframe thead th {\n",
       "        text-align: right;\n",
       "    }\n",
       "</style>\n",
       "<table border=\"1\" class=\"dataframe\">\n",
       "  <thead>\n",
       "    <tr style=\"text-align: right;\">\n",
       "      <th></th>\n",
       "      <th>VIF Factor</th>\n",
       "      <th>features</th>\n",
       "    </tr>\n",
       "  </thead>\n",
       "  <tbody>\n",
       "    <tr>\n",
       "      <th>0</th>\n",
       "      <td>2.723632</td>\n",
       "      <td>FFMC</td>\n",
       "    </tr>\n",
       "    <tr>\n",
       "      <th>1</th>\n",
       "      <td>2.735217</td>\n",
       "      <td>DMC</td>\n",
       "    </tr>\n",
       "    <tr>\n",
       "      <th>2</th>\n",
       "      <td>3.554436</td>\n",
       "      <td>DC</td>\n",
       "    </tr>\n",
       "    <tr>\n",
       "      <th>3</th>\n",
       "      <td>2.587659</td>\n",
       "      <td>ISI</td>\n",
       "    </tr>\n",
       "    <tr>\n",
       "      <th>4</th>\n",
       "      <td>10.434357</td>\n",
       "      <td>temp</td>\n",
       "    </tr>\n",
       "    <tr>\n",
       "      <th>5</th>\n",
       "      <td>1.941259</td>\n",
       "      <td>RH</td>\n",
       "    </tr>\n",
       "    <tr>\n",
       "      <th>6</th>\n",
       "      <td>9.022220</td>\n",
       "      <td>wind</td>\n",
       "    </tr>\n",
       "    <tr>\n",
       "      <th>7</th>\n",
       "      <td>10.717817</td>\n",
       "      <td>temp_wind</td>\n",
       "    </tr>\n",
       "    <tr>\n",
       "      <th>8</th>\n",
       "      <td>1.738108</td>\n",
       "      <td>summer</td>\n",
       "    </tr>\n",
       "    <tr>\n",
       "      <th>9</th>\n",
       "      <td>2.008394</td>\n",
       "      <td>autumn</td>\n",
       "    </tr>\n",
       "    <tr>\n",
       "      <th>10</th>\n",
       "      <td>1.562639</td>\n",
       "      <td>holiday</td>\n",
       "    </tr>\n",
       "  </tbody>\n",
       "</table>\n",
       "</div>"
      ],
      "text/plain": [
       "    VIF Factor   features\n",
       "0     2.723632       FFMC\n",
       "1     2.735217        DMC\n",
       "2     3.554436         DC\n",
       "3     2.587659        ISI\n",
       "4    10.434357       temp\n",
       "5     1.941259         RH\n",
       "6     9.022220       wind\n",
       "7    10.717817  temp_wind\n",
       "8     1.738108     summer\n",
       "9     2.008394     autumn\n",
       "10    1.562639    holiday"
      ]
     },
     "execution_count": 220,
     "metadata": {},
     "output_type": "execute_result"
    }
   ],
   "source": [
    "vif = pd.DataFrame()\n",
    "vif[\"VIF Factor\"] = [variance_inflation_factor(X.values, i) for i in range(X.shape[1])]\n",
    "vif[\"features\"] = X.columns\n",
    "vif"
   ]
  },
  {
   "cell_type": "code",
   "execution_count": 221,
   "metadata": {},
   "outputs": [],
   "source": [
    "# видим, что VIF больше 8 только у переменных temp и wind, которые использовались для создание переменной взаимодействия\n",
    "# проверим, что будет, если переменную взаимодействия удалить\n",
    "del X['temp_wind']"
   ]
  },
  {
   "cell_type": "code",
   "execution_count": 222,
   "metadata": {},
   "outputs": [
    {
     "data": {
      "text/html": [
       "<div>\n",
       "<style scoped>\n",
       "    .dataframe tbody tr th:only-of-type {\n",
       "        vertical-align: middle;\n",
       "    }\n",
       "\n",
       "    .dataframe tbody tr th {\n",
       "        vertical-align: top;\n",
       "    }\n",
       "\n",
       "    .dataframe thead th {\n",
       "        text-align: right;\n",
       "    }\n",
       "</style>\n",
       "<table border=\"1\" class=\"dataframe\">\n",
       "  <thead>\n",
       "    <tr style=\"text-align: right;\">\n",
       "      <th></th>\n",
       "      <th>VIF Factor</th>\n",
       "      <th>features</th>\n",
       "    </tr>\n",
       "  </thead>\n",
       "  <tbody>\n",
       "    <tr>\n",
       "      <th>0</th>\n",
       "      <td>2.712757</td>\n",
       "      <td>FFMC</td>\n",
       "    </tr>\n",
       "    <tr>\n",
       "      <th>1</th>\n",
       "      <td>2.729389</td>\n",
       "      <td>DMC</td>\n",
       "    </tr>\n",
       "    <tr>\n",
       "      <th>2</th>\n",
       "      <td>3.536247</td>\n",
       "      <td>DC</td>\n",
       "    </tr>\n",
       "    <tr>\n",
       "      <th>3</th>\n",
       "      <td>2.546790</td>\n",
       "      <td>ISI</td>\n",
       "    </tr>\n",
       "    <tr>\n",
       "      <th>4</th>\n",
       "      <td>3.141702</td>\n",
       "      <td>temp</td>\n",
       "    </tr>\n",
       "    <tr>\n",
       "      <th>5</th>\n",
       "      <td>1.746589</td>\n",
       "      <td>RH</td>\n",
       "    </tr>\n",
       "    <tr>\n",
       "      <th>6</th>\n",
       "      <td>1.284311</td>\n",
       "      <td>wind</td>\n",
       "    </tr>\n",
       "    <tr>\n",
       "      <th>7</th>\n",
       "      <td>1.715510</td>\n",
       "      <td>summer</td>\n",
       "    </tr>\n",
       "    <tr>\n",
       "      <th>8</th>\n",
       "      <td>1.990389</td>\n",
       "      <td>autumn</td>\n",
       "    </tr>\n",
       "    <tr>\n",
       "      <th>9</th>\n",
       "      <td>1.553323</td>\n",
       "      <td>holiday</td>\n",
       "    </tr>\n",
       "  </tbody>\n",
       "</table>\n",
       "</div>"
      ],
      "text/plain": [
       "   VIF Factor features\n",
       "0    2.712757     FFMC\n",
       "1    2.729389      DMC\n",
       "2    3.536247       DC\n",
       "3    2.546790      ISI\n",
       "4    3.141702     temp\n",
       "5    1.746589       RH\n",
       "6    1.284311     wind\n",
       "7    1.715510   summer\n",
       "8    1.990389   autumn\n",
       "9    1.553323  holiday"
      ]
     },
     "execution_count": 222,
     "metadata": {},
     "output_type": "execute_result"
    }
   ],
   "source": [
    "vif = pd.DataFrame()\n",
    "vif[\"VIF Factor\"] = [variance_inflation_factor(X.values, i) for i in range(X.shape[1])]\n",
    "vif[\"features\"] = X.columns\n",
    "vif"
   ]
  },
  {
   "cell_type": "markdown",
   "metadata": {},
   "source": [
    "теперь мултиколлинеарность отсутствует "
   ]
  },
  {
   "cell_type": "code",
   "execution_count": 223,
   "metadata": {},
   "outputs": [],
   "source": [
    "X['const'] = [1 for i in range(X.shape[0])] #добавим константу для построения линейной регрессии"
   ]
  },
  {
   "cell_type": "code",
   "execution_count": 224,
   "metadata": {},
   "outputs": [
    {
     "name": "stdout",
     "output_type": "stream",
     "text": [
      "23.01030138796829\n"
     ]
    }
   ],
   "source": [
    "norm_xtx = np.dot(X.T,X)\n",
    "\n",
    "eigs = np.linalg.eigvals(norm_xtx)\n",
    "condition_number = np.sqrt(eigs.max() / eigs.min())\n",
    "print(condition_number)\n",
    "#CN должен быть меньше 30 -> мультиколлинеарности нет "
   ]
  },
  {
   "cell_type": "markdown",
   "metadata": {},
   "source": [
    "Задание 4"
   ]
  },
  {
   "cell_type": "code",
   "execution_count": 225,
   "metadata": {},
   "outputs": [
    {
     "name": "stdout",
     "output_type": "stream",
     "text": [
      "                            OLS Regression Results                            \n",
      "==============================================================================\n",
      "Dep. Variable:                   area   R-squared:                       0.044\n",
      "Model:                            OLS   Adj. R-squared:                  0.007\n",
      "Method:                 Least Squares   F-statistic:                     1.179\n",
      "Date:                Sat, 20 Jun 2020   Prob (F-statistic):              0.305\n",
      "Time:                        17:30:03   Log-Likelihood:                -1580.8\n",
      "No. Observations:                 270   AIC:                             3184.\n",
      "Df Residuals:                     259   BIC:                             3223.\n",
      "Df Model:                          10                                         \n",
      "Covariance Type:            nonrobust                                         \n",
      "==============================================================================\n",
      "                 coef    std err          t      P>|t|      [0.025      0.975]\n",
      "------------------------------------------------------------------------------\n",
      "FFMC          -0.3027      8.711     -0.035      0.972     -17.455      16.850\n",
      "DMC           15.6213      9.003      1.735      0.084      -2.108      33.351\n",
      "DC           -22.0577     14.944     -1.476      0.141     -51.485       7.369\n",
      "ISI           -3.8709      8.373     -0.462      0.644     -20.360      12.618\n",
      "temp           5.9662     10.909      0.547      0.585     -15.516      27.448\n",
      "RH            -8.8560      7.696     -1.151      0.251     -24.011       6.299\n",
      "wind           6.1384      6.013      1.021      0.308      -5.702      17.979\n",
      "summer        21.2294     38.183      0.556      0.579     -53.959      96.418\n",
      "autumn        50.7609     43.572      1.165      0.245     -35.039     136.561\n",
      "holiday       13.9865     11.593      1.206      0.229      -8.842      36.815\n",
      "const         -9.0150     34.379     -0.262      0.793     -76.714      58.684\n",
      "==============================================================================\n",
      "Omnibus:                      454.836   Durbin-Watson:                   1.698\n",
      "Prob(Omnibus):                  0.000   Jarque-Bera (JB):           108988.695\n",
      "Skew:                           9.036   Prob(JB):                         0.00\n",
      "Kurtosis:                      99.754   Cond. No.                         23.0\n",
      "==============================================================================\n",
      "\n",
      "Warnings:\n",
      "[1] Standard Errors assume that the covariance matrix of the errors is correctly specified.\n"
     ]
    }
   ],
   "source": [
    "model = sm.OLS(Y, X)\n",
    "results = model.fit()\n",
    "print(results.summary())"
   ]
  },
  {
   "cell_type": "markdown",
   "metadata": {},
   "source": [
    "Jarque-Bera (JB): 108065.428 - ошибки ненормальные, т.к. гипотеза о нормальности отвергается (любой тест на нормальность)"
   ]
  },
  {
   "cell_type": "markdown",
   "metadata": {},
   "source": [
    "Все переменные получились незначимы, кроме индекса DMC (на 10% уровне значимости), также получился очень маленький R^2, но мы не обращаем на это внимания, т.к. такие мелочи не должны нас волновать :) Также вся модель в целом также не значима... (Prob (F-statistic):              0.305)"
   ]
  },
  {
   "cell_type": "markdown",
   "metadata": {},
   "source": [
    "Итак, в итоге в регрессии было использовано 10 регрессоров и константа, посмотрим, какие знаки получились при коэффициентах:\n",
    "\n",
    "FFMC          -0.3027 (знак не оправдался)\n",
    "\n",
    "DMC           15.6213 (знак оправдался)\n",
    "\n",
    "DC           -22.0577 (знак не оправдался)\n",
    "\n",
    "ISI           -3.8709 (знак не оправдался)\n",
    "\n",
    "temp           5.9662 (знак оправдался)\n",
    "\n",
    "RH            -8.8560 (знак оправдался)  \n",
    "\n",
    "wind           6.1384 (знак оправдался)  \n",
    "\n",
    "summer        21.2294 (знак оправдался) \n",
    "\n",
    "autumn        50.7609 (знак оправдался) \n",
    "\n",
    "holiday       13.9865 (знак оправдался) \n",
    "\n",
    "const         -9.0150"
   ]
  },
  {
   "cell_type": "markdown",
   "metadata": {},
   "source": [
    "Задание 5 (точечный прогноз и интервалы для индвидуального и среднего прогнозов)"
   ]
  },
  {
   "cell_type": "code",
   "execution_count": 226,
   "metadata": {},
   "outputs": [
    {
     "data": {
      "text/plain": [
       "array([ 20.63652772,  35.27556276,  33.40979459,  22.48135701,\n",
       "        24.60363713,  33.17890284,  25.31356564,  34.51450845,\n",
       "        21.86395177,  40.01797309,   2.66825853,  30.35194264,\n",
       "        23.23272996,  44.9055234 ,  25.07700374,  17.43394149,\n",
       "        65.0422938 ,  -4.28748497,  62.44339139,  -0.45495337,\n",
       "         8.76517702,  41.21369838,  23.6354854 ,  16.4680968 ,\n",
       "        52.96751788,  31.59634195,  19.45182056,  -5.35710266,\n",
       "       -12.18353631,  19.66810761,  39.62932154,   8.62773976,\n",
       "        34.00614822,  -0.71455592,  36.66878297,  30.65252822,\n",
       "        -1.05086194,  23.20257174,   7.01677491,  14.46012142,\n",
       "        12.74496284,   2.9743415 ,  67.8633859 ,  24.63892745,\n",
       "        16.98191359,   9.17853749,  19.97266912,  29.53981089,\n",
       "        34.42514058,  32.07948025,  18.72717857,  19.00778409,\n",
       "        15.08418578,  23.64686709,  14.80895856,  49.39031101,\n",
       "        14.80895856,  23.03923404,   7.01677491,  42.73319918,\n",
       "        28.75467018,  36.51563678,  38.12060875,  19.77747328,\n",
       "         6.4035688 ,  16.29959873,  18.77046058,  35.07175005,\n",
       "        40.64782901,  34.89663985,  44.01404447,  30.58524885,\n",
       "        35.78371278, -19.38132145,  17.43394149,  20.35111047,\n",
       "        43.48559487,  43.48559487,  26.99696196,   7.95793274,\n",
       "        39.37000534,  23.94164501,   4.03826698,  24.65041254,\n",
       "        20.35111047,  20.6112114 ,  10.38507446,  58.9682633 ,\n",
       "         7.45817313,  31.63118291,  65.96632533,  21.12543806,\n",
       "        55.40663785,  64.89433175,  31.06358077,  33.7762381 ,\n",
       "        53.98083582,  36.31373444,  37.86680053,  31.29374804,\n",
       "        62.89890555,   5.30257843,  32.96355469,  42.39102806,\n",
       "        37.80174333,  -8.0190424 ,   1.97409786,  24.54330884,\n",
       "        15.36302913,  14.56847157,  13.14779602,  13.80406527,\n",
       "        23.68987602,  21.13824237,  23.36794532,  20.86669968,\n",
       "        -8.51998825,  11.37252069,  16.3409664 ,   4.51057609,\n",
       "        13.76991512,  -6.78658526,  -1.72398726,   0.42789796,\n",
       "         2.17536574,   7.11237102,  -1.06789419, -17.26765052,\n",
       "       -24.4518173 ,   9.6876758 ,   9.6876758 ,   9.6876758 ,\n",
       "         9.6876758 , -28.03371641,   8.40625038,  14.25146492,\n",
       "        19.60035383,  30.97309963,  17.71996521,  61.23663964,\n",
       "         1.16832074,  35.64731856,  41.40242438,  34.17497224,\n",
       "        45.37226899,  41.71572794,  16.76568455,  35.36278365,\n",
       "        42.43288956,  39.22803592,  30.28448295,  30.28448295,\n",
       "        17.38195963,  -5.22209299,  49.3923906 ,  47.13256041,\n",
       "        49.8785236 ,  30.46841629,   9.56265795,  27.38014789,\n",
       "        26.50160984,  19.44144292,  17.91767304,  18.16359365,\n",
       "         7.06464484,  19.17243225,  25.29509518,   0.62755212,\n",
       "        -8.45599983,  18.42514994,  20.52776764,  14.46360196,\n",
       "        10.00290753,  29.67028552,  29.67028552,  19.76198713,\n",
       "        15.3852732 ,  18.43005261, -10.07906182,   9.25919878,\n",
       "        26.51105288,  20.48188868,  24.18326152,  32.81909443,\n",
       "        60.65487518,  31.29184179,  25.58135819,  39.6135773 ,\n",
       "        29.67043036,   8.68725996,  27.98250155,  19.28960639,\n",
       "        47.01075689,  32.05577011,  30.69331515,  30.93743295,\n",
       "        -1.47659721,  16.98992369,  76.74618756,   6.1797858 ,\n",
       "        28.86823487,  49.91509422,  32.64496734,  22.06459705,\n",
       "        26.6197343 ,  64.42887854,  57.64484431,  20.47993539,\n",
       "        32.65788858,  42.82884266,  30.61365713,  51.1724792 ,\n",
       "        49.9389686 ,  39.10094528,  63.89155635,  34.61384225,\n",
       "        55.49041716,  35.02312675,  45.03867506,  44.12759957,\n",
       "        31.99957946,  29.84548728,  40.65989615,  13.81065468,\n",
       "        33.74977958,   1.10603354,  47.4605752 ,  23.32017195,\n",
       "       -11.94447178,  23.13850477,  32.57871344,  36.34798668,\n",
       "        61.92032429,  -5.15788489,  -4.66939685,   4.35677741,\n",
       "        15.26574783,  17.30644422,  20.79011079,  47.23169384,\n",
       "        20.06417151,  18.82916671,  41.06593144,  39.5801899 ,\n",
       "        49.44848963,  28.49489305,  37.04522182,   9.26622726,\n",
       "        23.54967556,  35.51900864,  35.32795685,  47.66202232,\n",
       "        21.87935467,  19.49187562,  18.20103335,   2.71396194,\n",
       "        32.62158691,  48.60070523,  31.30673961,  30.35236994,\n",
       "        33.5396271 ,  13.14598425,  16.91797686,  17.21614832,\n",
       "        11.70013757,   6.98395679,   2.29489545,  20.48469112,\n",
       "         1.94799107,   4.79617601])"
      ]
     },
     "execution_count": 226,
     "metadata": {},
     "output_type": "execute_result"
    }
   ],
   "source": [
    "y_hat_1 = model.predict(results.params)\n",
    "y_hat_1"
   ]
  },
  {
   "cell_type": "code",
   "execution_count": 227,
   "metadata": {},
   "outputs": [],
   "source": [
    "y_hat = model.predict(results.params, np.median(X,axis=0)) #точечный прогноз"
   ]
  },
  {
   "cell_type": "code",
   "execution_count": 228,
   "metadata": {},
   "outputs": [
    {
     "data": {
      "text/plain": [
       "-16.204865104723318"
      ]
     },
     "execution_count": 228,
     "metadata": {},
     "output_type": "execute_result"
    }
   ],
   "source": [
    "y_hat"
   ]
  },
  {
   "cell_type": "code",
   "execution_count": 229,
   "metadata": {},
   "outputs": [],
   "source": [
    "#доверительный интервал для индивидуального прогноза"
   ]
  },
  {
   "cell_type": "code",
   "execution_count": 230,
   "metadata": {},
   "outputs": [],
   "source": [
    "rss = np.sum(np.square(Y - y_hat_1))"
   ]
  },
  {
   "cell_type": "code",
   "execution_count": 231,
   "metadata": {},
   "outputs": [
    {
     "data": {
      "text/plain": [
       "1925164.8114384408"
      ]
     },
     "execution_count": 231,
     "metadata": {},
     "output_type": "execute_result"
    }
   ],
   "source": [
    "rss"
   ]
  },
  {
   "cell_type": "code",
   "execution_count": 232,
   "metadata": {},
   "outputs": [
    {
     "data": {
      "text/plain": [
       "1925164.8114384408"
      ]
     },
     "execution_count": 232,
     "metadata": {},
     "output_type": "execute_result"
    }
   ],
   "source": [
    "results.centered_tss - results.ess"
   ]
  },
  {
   "cell_type": "code",
   "execution_count": 233,
   "metadata": {},
   "outputs": [
    {
     "data": {
      "text/plain": [
       "7433.06877003259"
      ]
     },
     "execution_count": 233,
     "metadata": {},
     "output_type": "execute_result"
    }
   ],
   "source": [
    "Var_y_real = rss/259\n",
    "Var_y_real"
   ]
  },
  {
   "cell_type": "code",
   "execution_count": 234,
   "metadata": {},
   "outputs": [],
   "source": [
    "norm_xtx_reversed = np.linalg.inv(norm_xtx)"
   ]
  },
  {
   "cell_type": "code",
   "execution_count": 235,
   "metadata": {},
   "outputs": [
    {
     "data": {
      "text/plain": [
       "1587.8785005660452"
      ]
     },
     "execution_count": 235,
     "metadata": {},
     "output_type": "execute_result"
    }
   ],
   "source": [
    "Var_y_hat = np.dot(np.dot(np.median(X,axis=0), norm_xtx_reversed),np.median(X,axis=0)) * Var_y_real\n",
    "Var_y_hat"
   ]
  },
  {
   "cell_type": "code",
   "execution_count": 236,
   "metadata": {},
   "outputs": [],
   "source": [
    "CI_left = y_hat - 1.96 * (Var_y_hat + Var_y_real)**0.5"
   ]
  },
  {
   "cell_type": "code",
   "execution_count": 237,
   "metadata": {},
   "outputs": [],
   "source": [
    "CI_right = y_hat + 1.96 * (Var_y_hat + Var_y_real)**0.5"
   ]
  },
  {
   "cell_type": "code",
   "execution_count": 238,
   "metadata": {},
   "outputs": [
    {
     "data": {
      "text/plain": [
       "(-202.36305330693943, 169.95332309749278)"
      ]
     },
     "execution_count": 238,
     "metadata": {},
     "output_type": "execute_result"
    }
   ],
   "source": [
    "CI_left,CI_right #интревал для индивидуального прогноза"
   ]
  },
  {
   "cell_type": "code",
   "execution_count": 239,
   "metadata": {},
   "outputs": [
    {
     "data": {
      "text/plain": [
       "(-94.30732375856161, 61.89759354911498)"
      ]
     },
     "execution_count": 239,
     "metadata": {},
     "output_type": "execute_result"
    }
   ],
   "source": [
    "#интервал для среднего\n",
    "CI_left_mean = y_hat - 1.96 * (Var_y_hat)**0.5\n",
    "CI_right_mean = y_hat + 1.96 * (Var_y_hat)**0.5\n",
    "CI_left_mean,CI_right_mean"
   ]
  },
  {
   "cell_type": "markdown",
   "metadata": {},
   "source": [
    "Задание 6 и Задание 7 (гетероскедастичность)"
   ]
  },
  {
   "cell_type": "markdown",
   "metadata": {},
   "source": [
    "Температура точно должно порождать гетероскедастичность, т.к. чем выше температура, тем сильнее колебания сгоревшей площади, проверим это предположение"
   ]
  },
  {
   "cell_type": "code",
   "execution_count": 240,
   "metadata": {},
   "outputs": [
    {
     "name": "stdout",
     "output_type": "stream",
     "text": [
      "                    Robust linear Model Regression Results                    \n",
      "==============================================================================\n",
      "Dep. Variable:                   area   No. Observations:                  270\n",
      "Model:                            RLM   Df Residuals:                      259\n",
      "Method:                          IRLS   Df Model:                           10\n",
      "Norm:                          HuberT                                         \n",
      "Scale Est.:                       mad                                         \n",
      "Cov Type:                          H1                                         \n",
      "Date:                Sat, 20 Jun 2020                                         \n",
      "Time:                        17:30:04                                         \n",
      "No. Iterations:                    21                                         \n",
      "==============================================================================\n",
      "                 coef    std err          z      P>|z|      [0.025      0.975]\n",
      "------------------------------------------------------------------------------\n",
      "FFMC           0.1651      1.028      0.161      0.872      -1.850       2.180\n",
      "DMC            1.7176      1.063      1.616      0.106      -0.365       3.800\n",
      "DC            -1.6853      1.764     -0.956      0.339      -5.142       1.772\n",
      "ISI            0.0155      0.988      0.016      0.988      -1.922       1.953\n",
      "temp           0.2414      1.288      0.187      0.851      -2.282       2.765\n",
      "RH            -0.9148      0.908     -1.007      0.314      -2.695       0.866\n",
      "wind           0.8170      0.710      1.151      0.250      -0.574       2.208\n",
      "summer        -4.6006      4.507     -1.021      0.307     -13.434       4.232\n",
      "autumn         0.7420      5.143      0.144      0.885      -9.338      10.822\n",
      "holiday        2.5649      1.368      1.875      0.061      -0.117       5.247\n",
      "const         10.0796      4.058      2.484      0.013       2.127      18.033\n",
      "==============================================================================\n",
      "\n",
      "If the model instance has been used for another fit with different fit\n",
      "parameters, then the fit options might not be the correct ones anymore .\n"
     ]
    }
   ],
   "source": [
    "model_1 = sm.RLM(Y, X)\n",
    "results_1 = model_1.fit()\n",
    "print(results_1.summary())"
   ]
  },
  {
   "cell_type": "markdown",
   "metadata": {},
   "source": [
    "При использовании робастных ошибок стандартные ошибки всех регрессоров стали сильно меньше, значит, присутствует гетероскедастичноть \n"
   ]
  },
  {
   "cell_type": "code",
   "execution_count": 241,
   "metadata": {},
   "outputs": [],
   "source": [
    "data['errors'] = Y - y_hat_1"
   ]
  },
  {
   "cell_type": "code",
   "execution_count": 242,
   "metadata": {},
   "outputs": [
    {
     "data": {
      "image/png": "[encoded data removed]",
      "text/plain": [
       "<Figure size 432x288 with 1 Axes>"
      ]
     },
     "metadata": {
      "needs_background": "light"
     },
     "output_type": "display_data"
    },
    {
     "data": {
      "image/png": "[encoded data removed]",
      "text/plain": [
       "<Figure size 432x288 with 1 Axes>"
      ]
     },
     "metadata": {
      "needs_background": "light"
     },
     "output_type": "display_data"
    },
    {
     "data": {
      "image/png": "[encoded data removed]",
      "text/plain": [
       "<Figure size 432x288 with 1 Axes>"
      ]
     },
     "metadata": {
      "needs_background": "light"
     },
     "output_type": "display_data"
    },
    {
     "data": {
      "image/png": "[encoded data removed]",
      "text/plain": [
       "<Figure size 432x288 with 1 Axes>"
      ]
     },
     "metadata": {
      "needs_background": "light"
     },
     "output_type": "display_data"
    },
    {
     "data": {
      "image/png": "[encoded data removed]",
      "text/plain": [
       "<Figure size 432x288 with 1 Axes>"
      ]
     },
     "metadata": {
      "needs_background": "light"
     },
     "output_type": "display_data"
    },
    {
     "data": {
      "image/png": "[encoded data removed]",
      "text/plain": [
       "<Figure size 432x288 with 1 Axes>"
      ]
     },
     "metadata": {
      "needs_background": "light"
     },
     "output_type": "display_data"
    },
    {
     "data": {
      "image/png": "[encoded data removed]",
      "text/plain": [
       "<Figure size 432x288 with 1 Axes>"
      ]
     },
     "metadata": {
      "needs_background": "light"
     },
     "output_type": "display_data"
    },
    {
     "data": {
      "image/png": "[encoded data removed]",
      "text/plain": [
       "<Figure size 432x288 with 1 Axes>"
      ]
     },
     "metadata": {
      "needs_background": "light"
     },
     "output_type": "display_data"
    },
    {
     "data": {
      "image/png": "[encoded data removed]",
      "text/plain": [
       "<Figure size 432x288 with 1 Axes>"
      ]
     },
     "metadata": {
      "needs_background": "light"
     },
     "output_type": "display_data"
    },
    {
     "data": {
      "image/png": "[encoded data removed]",
      "text/plain": [
       "<Figure size 432x288 with 1 Axes>"
      ]
     },
     "metadata": {
      "needs_background": "light"
     },
     "output_type": "display_data"
    }
   ],
   "source": [
    "for i in X.columns[:-1]:\n",
    "    plt.scatter(data[data['errors']**2<10000][i], data[data['errors']**2<10000]['errors'])\n",
    "    plt.title(f'Зависимость от ошибок для {i}')\n",
    "    plt.show()\n",
    "    \n"
   ]
  },
  {
   "cell_type": "markdown",
   "metadata": {},
   "source": [
    "По графикам видно, что стандратные ошибки непостоянные"
   ]
  },
  {
   "cell_type": "code",
   "execution_count": 243,
   "metadata": {},
   "outputs": [
    {
     "name": "stdout",
     "output_type": "stream",
     "text": [
      "FFMC (0.532860391805541, 0.0003093248473901327, 'two-sided')\n",
      "DMC (0.5174803731494866, 0.00016171954235805715, 'two-sided')\n",
      "DC (0.5374442938607398, 0.00037220982162000074, 'two-sided')\n",
      "ISI (0.5359240468572781, 0.00035019408461457307, 'two-sided')\n",
      "temp (0.520178591897242, 0.00018178007748285543, 'two-sided')\n",
      "RH (0.5464254745749038, 0.0005293162040182722, 'two-sided')\n",
      "wind (0.5363854545611039, 0.00035674988138060837, 'two-sided')\n",
      "summer (0.48447108551327595, 3.4391051166344304e-05, 'two-sided')\n",
      "autumn (0.5965535840902062, 0.002996771206084057, 'two-sided')\n",
      "holiday (0.5746043675442545, 0.0014683544011177333, 'two-sided')\n",
      "const (0.5250730566153087, 0.0002239537664358476, 'two-sided')\n"
     ]
    }
   ],
   "source": [
    "for i in X.columns:\n",
    "    print(i,het_goldfeldquandt(Y, X[[i]], alternative='two-sided'))\n",
    "\n",
    "# мы видим по результатам теста гетероскедостачность по всем переменным"
   ]
  },
  {
   "cell_type": "markdown",
   "metadata": {},
   "source": [
    "Задание 8"
   ]
  },
  {
   "cell_type": "code",
   "execution_count": 244,
   "metadata": {},
   "outputs": [
    {
     "name": "stdout",
     "output_type": "stream",
     "text": [
      "                            WLS Regression Results                            \n",
      "==============================================================================\n",
      "Dep. Variable:                   area   R-squared:                       0.067\n",
      "Model:                            WLS   Adj. R-squared:                  0.031\n",
      "Method:                 Least Squares   F-statistic:                     1.856\n",
      "Date:                Sat, 20 Jun 2020   Prob (F-statistic):             0.0518\n",
      "Time:                        17:30:06   Log-Likelihood:                   -inf\n",
      "No. Observations:                 270   AIC:                               inf\n",
      "Df Residuals:                     259   BIC:                               inf\n",
      "Df Model:                          10                                         \n",
      "Covariance Type:            nonrobust                                         \n",
      "==============================================================================\n",
      "                 coef    std err          t      P>|t|      [0.025      0.975]\n",
      "------------------------------------------------------------------------------\n",
      "FFMC           0.9770      3.410      0.287      0.775      -5.737       7.691\n",
      "DMC            7.2516      4.081      1.777      0.077      -0.785      15.288\n",
      "DC           -15.7796      7.261     -2.173      0.031     -30.078      -1.481\n",
      "ISI           -6.5532      3.604     -1.818      0.070     -13.650       0.544\n",
      "temp           0.2079      4.870      0.043      0.966      -9.381       9.797\n",
      "RH            -3.2665      3.335     -0.980      0.328      -9.833       3.300\n",
      "wind           2.1707      2.669      0.813      0.417      -3.084       7.426\n",
      "summer        36.9434     18.807      1.964      0.051      -0.090      73.977\n",
      "autumn        46.4881     21.303      2.182      0.030       4.539      88.437\n",
      "holiday        9.1719      5.245      1.749      0.082      -1.156      19.500\n",
      "const        -17.0791     16.542     -1.032      0.303     -49.654      15.495\n",
      "==============================================================================\n",
      "Omnibus:                      281.078   Durbin-Watson:                   1.367\n",
      "Prob(Omnibus):                  0.000   Jarque-Bera (JB):             7875.478\n",
      "Skew:                           4.433   Prob(JB):                         0.00\n",
      "Kurtosis:                      27.929   Cond. No.                         26.6\n",
      "==============================================================================\n",
      "\n",
      "Warnings:\n",
      "[1] Standard Errors assume that the covariance matrix of the errors is correctly specified.\n"
     ]
    },
    {
     "name": "stderr",
     "output_type": "stream",
     "text": [
      "C:\\ProgramData\\Anaconda3\\lib\\site-packages\\statsmodels\\regression\\linear_model.py:719: RuntimeWarning: divide by zero encountered in log\n",
      "  llf += 0.5 * np.sum(np.log(self.weights))\n"
     ]
    }
   ],
   "source": [
    "np.random.seed(60)\n",
    "model_WLS = sm.WLS(Y, X, weights=np.random.randint(0, 10, size=X.shape[0]))\n",
    "results_WLS = model_WLS.fit()\n",
    "print(results_WLS.summary())\n",
    "# взвешенный МНК\n",
    "# по сравнению с обычный линейной моделью теперь значимы DC, ISI, summer, autumn и holiday"
   ]
  },
  {
   "cell_type": "markdown",
   "metadata": {},
   "source": [
    "Задание 9"
   ]
  },
  {
   "cell_type": "code",
   "execution_count": 245,
   "metadata": {},
   "outputs": [
    {
     "name": "stdout",
     "output_type": "stream",
     "text": [
      "                            OLS Regression Results                            \n",
      "==============================================================================\n",
      "Dep. Variable:                   area   R-squared:                       0.044\n",
      "Model:                            OLS   Adj. R-squared:                  0.007\n",
      "Method:                 Least Squares   F-statistic:                    0.8643\n",
      "Date:                Sat, 20 Jun 2020   Prob (F-statistic):              0.567\n",
      "Time:                        17:30:06   Log-Likelihood:                -1580.8\n",
      "No. Observations:                 270   AIC:                             3184.\n",
      "Df Residuals:                     259   BIC:                             3223.\n",
      "Df Model:                          10                                         \n",
      "Covariance Type:                  HC0                                         \n",
      "==============================================================================\n",
      "                 coef    std err          z      P>|z|      [0.025      0.975]\n",
      "------------------------------------------------------------------------------\n",
      "FFMC          -0.3027      2.842     -0.107      0.915      -5.872       5.267\n",
      "DMC           15.6213      7.652      2.041      0.041       0.624      30.619\n",
      "DC           -22.0577      9.820     -2.246      0.025     -41.305      -2.811\n",
      "ISI           -3.8709      3.771     -1.026      0.305     -11.263       3.521\n",
      "temp           5.9662      6.636      0.899      0.369      -7.040      18.973\n",
      "RH            -8.8560      5.113     -1.732      0.083     -18.877       1.165\n",
      "wind           6.1384      3.952      1.553      0.120      -1.607      13.884\n",
      "summer        21.2294     20.061      1.058      0.290     -18.089      60.548\n",
      "autumn        50.7609     33.413      1.519      0.129     -14.727     116.249\n",
      "holiday       13.9865     14.525      0.963      0.336     -14.481      42.454\n",
      "const         -9.0150     22.948     -0.393      0.694     -53.993      35.963\n",
      "==============================================================================\n",
      "Omnibus:                      454.836   Durbin-Watson:                   1.698\n",
      "Prob(Omnibus):                  0.000   Jarque-Bera (JB):           108988.695\n",
      "Skew:                           9.036   Prob(JB):                         0.00\n",
      "Kurtosis:                      99.754   Cond. No.                         23.0\n",
      "==============================================================================\n",
      "\n",
      "Warnings:\n",
      "[1] Standard Errors are heteroscedasticity robust (HC0)\n"
     ]
    }
   ],
   "source": [
    "model_HC0= sm.OLS(Y, X)\n",
    "results_HC0 = model_HC0.fit(cov_type = 'HC0')\n",
    "results_HC0.HC0_se\n",
    "print(results_HC0.summary())\n",
    "# метод расчета: новая оценка стандратной ошибки для каждого коэффициента, в ней дисперсия случайной \n",
    "# ошибки заменяется на оценку HC0"
   ]
  },
  {
   "cell_type": "markdown",
   "metadata": {},
   "source": [
    "Итак робастные ошибки в форме Уайта (HC0)\n",
    "FFMC          2.842    \n",
    "DMC            7.652      \n",
    "DC           9.820    \n",
    "ISI            3.771    \n",
    "temp          6.636  \n",
    "RH           5.113    \n",
    "wind              3.952     \n",
    "summer        20.061     \n",
    "autumn            33.413   \n",
    "holiday         14.525      \n",
    "const         22.948"
   ]
  },
  {
   "cell_type": "code",
   "execution_count": 246,
   "metadata": {},
   "outputs": [
    {
     "name": "stdout",
     "output_type": "stream",
     "text": [
      "                            OLS Regression Results                            \n",
      "==============================================================================\n",
      "Dep. Variable:                   area   R-squared:                       0.044\n",
      "Model:                            OLS   Adj. R-squared:                  0.007\n",
      "Method:                 Least Squares   F-statistic:                    0.7891\n",
      "Date:                Sat, 20 Jun 2020   Prob (F-statistic):              0.639\n",
      "Time:                        17:30:06   Log-Likelihood:                -1580.8\n",
      "No. Observations:                 270   AIC:                             3184.\n",
      "Df Residuals:                     259   BIC:                             3223.\n",
      "Df Model:                          10                                         \n",
      "Covariance Type:                  HC3                                         \n",
      "==============================================================================\n",
      "                 coef    std err          z      P>|z|      [0.025      0.975]\n",
      "------------------------------------------------------------------------------\n",
      "FFMC          -0.3027      3.761     -0.080      0.936      -7.675       7.069\n",
      "DMC           15.6213      7.978      1.958      0.050      -0.014      31.257\n",
      "DC           -22.0577     10.221     -2.158      0.031     -42.091      -2.024\n",
      "ISI           -3.8709      4.065     -0.952      0.341     -11.839       4.097\n",
      "temp           5.9662      6.922      0.862      0.389      -7.600      19.533\n",
      "RH            -8.8560      5.314     -1.667      0.096     -19.271       1.559\n",
      "wind           6.1384      4.100      1.497      0.134      -1.898      14.175\n",
      "summer        21.2294     20.982      1.012      0.312     -19.894      62.352\n",
      "autumn        50.7609     34.690      1.463      0.143     -17.230     118.752\n",
      "holiday       13.9865     14.967      0.935      0.350     -15.348      43.321\n",
      "const         -9.0150     23.858     -0.378      0.706     -55.775      37.745\n",
      "==============================================================================\n",
      "Omnibus:                      454.836   Durbin-Watson:                   1.698\n",
      "Prob(Omnibus):                  0.000   Jarque-Bera (JB):           108988.695\n",
      "Skew:                           9.036   Prob(JB):                         0.00\n",
      "Kurtosis:                      99.754   Cond. No.                         23.0\n",
      "==============================================================================\n",
      "\n",
      "Warnings:\n",
      "[1] Standard Errors are heteroscedasticity robust (HC3)\n"
     ]
    }
   ],
   "source": [
    "model_HC3= sm.OLS(Y, X)\n",
    "results_HC3 = model_HC3.fit(cov_type = 'HC3')\n",
    "results_HC3.HC3_se\n",
    "print(results_HC3.summary())\n",
    "#бонус - применяется кроссвалидация leave-one-out (повторили для HC3)"
   ]
  },
  {
   "cell_type": "markdown",
   "metadata": {},
   "source": [
    "Ошибки HC3\n",
    "FFMC        3.284     \n",
    "DMC          8.239      \n",
    "DC           11.663     \n",
    "ISI             3.981   \n",
    "temp              7.668     \n",
    "RH              5.051    \n",
    "wind            4.038     \n",
    "summer   21.870     \n",
    "autumn        31.488     \n",
    "spring        15.444   \n",
    "holiday      14.977     \n",
    "const         22.933"
   ]
  },
  {
   "cell_type": "markdown",
   "metadata": {},
   "source": [
    "Задание 10"
   ]
  },
  {
   "cell_type": "code",
   "execution_count": 247,
   "metadata": {},
   "outputs": [
    {
     "data": {
      "text/plain": [
       "array([[-0.46038797, -0.4100079 , -0.39808833, -0.37907385, -0.47309742,\n",
       "         0.21483115,  0.17618919, -0.1240345 , -0.03666085, -0.00450979,\n",
       "        -0.        ],\n",
       "       [ 0.26369443, -0.14117538, -0.36639241,  0.54189099, -0.05554793,\n",
       "        -0.0177763 ,  0.62949917,  0.15516936, -0.24202641, -0.01790034,\n",
       "        -0.        ]])"
      ]
     },
     "execution_count": 247,
     "metadata": {},
     "output_type": "execute_result"
    }
   ],
   "source": [
    "pca = PCA(n_components=2)\n",
    "pca.fit(X, Y)\n",
    "pca.components_[:2]"
   ]
  },
  {
   "cell_type": "code",
   "execution_count": 248,
   "metadata": {},
   "outputs": [
    {
     "data": {
      "text/plain": [
       "0.5721766095505003"
      ]
     },
     "execution_count": 248,
     "metadata": {},
     "output_type": "execute_result"
    }
   ],
   "source": [
    "sum(pca.explained_variance_ratio_[:2]) #доля объясненной дисперсии первыми двумя главными компонентами"
   ]
  },
  {
   "cell_type": "code",
   "execution_count": 249,
   "metadata": {},
   "outputs": [
    {
     "data": {
      "text/html": [
       "<table class=\"simpletable\">\n",
       "<caption>OLS Regression Results</caption>\n",
       "<tr>\n",
       "  <th>Dep. Variable:</th>          <td>area</td>       <th>  R-squared:         </th> <td>   0.008</td>\n",
       "</tr>\n",
       "<tr>\n",
       "  <th>Model:</th>                   <td>OLS</td>       <th>  Adj. R-squared:    </th> <td>   0.000</td>\n",
       "</tr>\n",
       "<tr>\n",
       "  <th>Method:</th>             <td>Least Squares</td>  <th>  F-statistic:       </th> <td>   1.018</td>\n",
       "</tr>\n",
       "<tr>\n",
       "  <th>Date:</th>             <td>Sat, 20 Jun 2020</td> <th>  Prob (F-statistic):</th>  <td> 0.363</td> \n",
       "</tr>\n",
       "<tr>\n",
       "  <th>Time:</th>                 <td>17:30:06</td>     <th>  Log-Likelihood:    </th> <td> -1596.4</td>\n",
       "</tr>\n",
       "<tr>\n",
       "  <th>No. Observations:</th>      <td>   270</td>      <th>  AIC:               </th> <td>   3197.</td>\n",
       "</tr>\n",
       "<tr>\n",
       "  <th>Df Residuals:</th>          <td>   268</td>      <th>  BIC:               </th> <td>   3204.</td>\n",
       "</tr>\n",
       "<tr>\n",
       "  <th>Df Model:</th>              <td>     2</td>      <th>                     </th>     <td> </td>   \n",
       "</tr>\n",
       "<tr>\n",
       "  <th>Covariance Type:</th>      <td>nonrobust</td>    <th>                     </th>     <td> </td>   \n",
       "</tr>\n",
       "</table>\n",
       "<table class=\"simpletable\">\n",
       "<tr>\n",
       "   <td></td>     <th>coef</th>     <th>std err</th>      <th>t</th>      <th>P>|t|</th>  <th>[0.025</th>    <th>0.975]</th>  \n",
       "</tr>\n",
       "<tr>\n",
       "  <th>x1</th> <td>   -4.2180</td> <td>    3.064</td> <td>   -1.377</td> <td> 0.170</td> <td>  -10.250</td> <td>    1.814</td>\n",
       "</tr>\n",
       "<tr>\n",
       "  <th>x2</th> <td>   -1.8526</td> <td>    4.930</td> <td>   -0.376</td> <td> 0.707</td> <td>  -11.558</td> <td>    7.853</td>\n",
       "</tr>\n",
       "</table>\n",
       "<table class=\"simpletable\">\n",
       "<tr>\n",
       "  <th>Omnibus:</th>       <td>462.215</td> <th>  Durbin-Watson:     </th>  <td>   1.558</td> \n",
       "</tr>\n",
       "<tr>\n",
       "  <th>Prob(Omnibus):</th> <td> 0.000</td>  <th>  Jarque-Bera (JB):  </th> <td>118391.315</td>\n",
       "</tr>\n",
       "<tr>\n",
       "  <th>Skew:</th>          <td> 9.308</td>  <th>  Prob(JB):          </th>  <td>    0.00</td> \n",
       "</tr>\n",
       "<tr>\n",
       "  <th>Kurtosis:</th>      <td>103.882</td> <th>  Cond. No.          </th>  <td>    1.61</td> \n",
       "</tr>\n",
       "</table><br/><br/>Warnings:<br/>[1] Standard Errors assume that the covariance matrix of the errors is correctly specified."
      ],
      "text/plain": [
       "<class 'statsmodels.iolib.summary.Summary'>\n",
       "\"\"\"\n",
       "                            OLS Regression Results                            \n",
       "==============================================================================\n",
       "Dep. Variable:                   area   R-squared:                       0.008\n",
       "Model:                            OLS   Adj. R-squared:                  0.000\n",
       "Method:                 Least Squares   F-statistic:                     1.018\n",
       "Date:                Sat, 20 Jun 2020   Prob (F-statistic):              0.363\n",
       "Time:                        17:30:06   Log-Likelihood:                -1596.4\n",
       "No. Observations:                 270   AIC:                             3197.\n",
       "Df Residuals:                     268   BIC:                             3204.\n",
       "Df Model:                           2                                         \n",
       "Covariance Type:            nonrobust                                         \n",
       "==============================================================================\n",
       "                 coef    std err          t      P>|t|      [0.025      0.975]\n",
       "------------------------------------------------------------------------------\n",
       "x1            -4.2180      3.064     -1.377      0.170     -10.250       1.814\n",
       "x2            -1.8526      4.930     -0.376      0.707     -11.558       7.853\n",
       "==============================================================================\n",
       "Omnibus:                      462.215   Durbin-Watson:                   1.558\n",
       "Prob(Omnibus):                  0.000   Jarque-Bera (JB):           118391.315\n",
       "Skew:                           9.308   Prob(JB):                         0.00\n",
       "Kurtosis:                     103.882   Cond. No.                         1.61\n",
       "==============================================================================\n",
       "\n",
       "Warnings:\n",
       "[1] Standard Errors assume that the covariance matrix of the errors is correctly specified.\n",
       "\"\"\""
      ]
     },
     "execution_count": 249,
     "metadata": {},
     "output_type": "execute_result"
    }
   ],
   "source": [
    "X_pca = pca.fit_transform(X)\n",
    "model_pca = sm.OLS (Y, X_pca)\n",
    "results_pca = model_pca.fit()\n",
    "results_pca.summary()\n",
    "#модель стала хуже, R^2 был 4.4% стал 0.8%, переменные незначимы"
   ]
  },
  {
   "cell_type": "markdown",
   "metadata": {},
   "source": [
    "Задание 11"
   ]
  },
  {
   "cell_type": "code",
   "execution_count": 250,
   "metadata": {},
   "outputs": [],
   "source": [
    "#выпишем в явном виде в матричной форме функцию правдоподобия\n",
    "def likelihood(beta, sigma2):\n",
    "    return 1/((2*np.pi)**(X.shape[0]/2)*(sigma2**(X.shape[0]/2)) * np.exp(-((Y-X@beta).T@(Y-X@beta))/(2*sigma2)))"
   ]
  },
  {
   "cell_type": "code",
   "execution_count": 251,
   "metadata": {},
   "outputs": [
    {
     "data": {
      "text/plain": [
       "array([ -0.30273523,  15.62127834, -22.05767209,  -3.87090313,\n",
       "         5.96615878,  -8.85597869,   6.13843304,  21.22943038,\n",
       "        50.76094726,  13.98650046,  -9.01497762])"
      ]
     },
     "execution_count": 251,
     "metadata": {},
     "output_type": "execute_result"
    }
   ],
   "source": [
    "# пункт (а)\n",
    "beta = np.dot(np.linalg.inv(X.T@X)@X.T, (Y))\n",
    "beta\n",
    "#совпадает с МНК-оценками"
   ]
  }
 ],
 "metadata": {
  "kernelspec": {
   "display_name": "Python 3",
   "language": "python",
   "name": "python3"
  },
  "language_info": {
   "codemirror_mode": {
    "name": "ipython",
    "version": 3
   },
   "file_extension": ".py",
   "mimetype": "text/x-python",
   "name": "python",
   "nbconvert_exporter": "python",
   "pygments_lexer": "ipython3",
   "version": "3.7.1"
  }
 },
 "nbformat": 4,
 "nbformat_minor": 2
}
